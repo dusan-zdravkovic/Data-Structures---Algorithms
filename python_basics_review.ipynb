{
  "cells": [
    {
      "cell_type": "code",
      "execution_count": 5,
      "id": "89f5be7d",
      "metadata": {
        "id": "89f5be7d",
        "outputId": "bc3fe2ea-11b1-409c-c295-845c2ea99bcc",
        "colab": {
          "base_uri": "https://localhost:8080/"
        }
      },
      "outputs": [
        {
          "output_type": "stream",
          "name": "stdout",
          "text": [
            "Hello World\n"
          ]
        }
      ],
      "source": [
        "print(\"Hello World\") # string of Hello World"
      ]
    },
    {
      "cell_type": "code",
      "execution_count": 6,
      "id": "218c5953",
      "metadata": {
        "colab": {
          "base_uri": "https://localhost:8080/"
        },
        "id": "218c5953",
        "outputId": "1614ceff-9248-4599-92b0-e26627df0b67"
      },
      "outputs": [
        {
          "output_type": "execute_result",
          "data": {
            "text/plain": [
              "str"
            ]
          },
          "metadata": {},
          "execution_count": 6
        }
      ],
      "source": [
        "type('Hello World')"
      ]
    },
    {
      "cell_type": "code",
      "source": [
        "\"My name is Dusan, I am 24\""
      ],
      "metadata": {
        "id": "vPsUelR2uC_J",
        "outputId": "5dcf45c0-1326-478c-969d-be4fca3d2851",
        "colab": {
          "base_uri": "https://localhost:8080/",
          "height": 35
        }
      },
      "id": "vPsUelR2uC_J",
      "execution_count": 7,
      "outputs": [
        {
          "output_type": "execute_result",
          "data": {
            "text/plain": [
              "'My name is Dusan, I am 24'"
            ],
            "application/vnd.google.colaboratory.intrinsic+json": {
              "type": "string"
            }
          },
          "metadata": {},
          "execution_count": 7
        }
      ]
    },
    {
      "cell_type": "code",
      "source": [
        "23 # number not string"
      ],
      "metadata": {
        "id": "-qzqsXVNuTr1",
        "outputId": "8e4b4c4d-af84-4dd4-b702-475ce3beabd6",
        "colab": {
          "base_uri": "https://localhost:8080/"
        }
      },
      "id": "-qzqsXVNuTr1",
      "execution_count": 8,
      "outputs": [
        {
          "output_type": "execute_result",
          "data": {
            "text/plain": [
              "23"
            ]
          },
          "metadata": {},
          "execution_count": 8
        }
      ]
    },
    {
      "cell_type": "code",
      "source": [
        "\"23\" + \"4\""
      ],
      "metadata": {
        "id": "tPcDzOvxuZwq",
        "outputId": "0767f595-b485-4ba3-c1a1-6afc525f7a63",
        "colab": {
          "base_uri": "https://localhost:8080/",
          "height": 35
        }
      },
      "id": "tPcDzOvxuZwq",
      "execution_count": 9,
      "outputs": [
        {
          "output_type": "execute_result",
          "data": {
            "text/plain": [
              "'234'"
            ],
            "application/vnd.google.colaboratory.intrinsic+json": {
              "type": "string"
            }
          },
          "metadata": {},
          "execution_count": 9
        }
      ]
    },
    {
      "cell_type": "code",
      "source": [
        "\"hello\" + \" world\""
      ],
      "metadata": {
        "id": "NfUCQlPSuiaj",
        "outputId": "a7bdf8a9-c1bb-45a8-ff3a-b50883370abf",
        "colab": {
          "base_uri": "https://localhost:8080/",
          "height": 35
        }
      },
      "id": "NfUCQlPSuiaj",
      "execution_count": 10,
      "outputs": [
        {
          "output_type": "execute_result",
          "data": {
            "text/plain": [
              "'hello world'"
            ],
            "application/vnd.google.colaboratory.intrinsic+json": {
              "type": "string"
            }
          },
          "metadata": {},
          "execution_count": 10
        }
      ]
    },
    {
      "cell_type": "code",
      "source": [
        "# \"hello\" - \" world\" # python error, tells you cannot operate on str and str like that: TypeError"
      ],
      "metadata": {
        "id": "xnL_jXuauoKh"
      },
      "id": "xnL_jXuauoKh",
      "execution_count": 11,
      "outputs": []
    },
    {
      "cell_type": "code",
      "source": [
        "3 - 2"
      ],
      "metadata": {
        "id": "lSoVOHIku4O5",
        "outputId": "8f7e9cd3-adf7-42b6-a467-f82a6fdf2ab8",
        "colab": {
          "base_uri": "https://localhost:8080/"
        }
      },
      "id": "lSoVOHIku4O5",
      "execution_count": 12,
      "outputs": [
        {
          "output_type": "execute_result",
          "data": {
            "text/plain": [
              "1"
            ]
          },
          "metadata": {},
          "execution_count": 12
        }
      ]
    },
    {
      "cell_type": "code",
      "source": [
        "# SyntaxError, \"language error\"\n",
        "# \"hello\" + \"hi"
      ],
      "metadata": {
        "id": "mzD2ap2qvJHE"
      },
      "id": "mzD2ap2qvJHE",
      "execution_count": 13,
      "outputs": []
    },
    {
      "cell_type": "code",
      "source": [
        "type(3.2)"
      ],
      "metadata": {
        "id": "74FmbgY9vTmo",
        "outputId": "a004fc3d-7d80-4d4e-9aa1-b1613c2ee715",
        "colab": {
          "base_uri": "https://localhost:8080/"
        }
      },
      "id": "74FmbgY9vTmo",
      "execution_count": 14,
      "outputs": [
        {
          "output_type": "execute_result",
          "data": {
            "text/plain": [
              "float"
            ]
          },
          "metadata": {},
          "execution_count": 14
        }
      ]
    },
    {
      "cell_type": "code",
      "source": [
        "type(3)"
      ],
      "metadata": {
        "id": "t2g8wnW_vp_T",
        "outputId": "5a97c39c-fdb6-4364-e353-6c277b0e8b5c",
        "colab": {
          "base_uri": "https://localhost:8080/"
        }
      },
      "id": "t2g8wnW_vp_T",
      "execution_count": 15,
      "outputs": [
        {
          "output_type": "execute_result",
          "data": {
            "text/plain": [
              "int"
            ]
          },
          "metadata": {},
          "execution_count": 15
        }
      ]
    },
    {
      "cell_type": "code",
      "source": [
        "4 / 3"
      ],
      "metadata": {
        "id": "1aP_1-w0v2Ez",
        "outputId": "f737d6e1-f0b8-4811-d514-5c40f578e588",
        "colab": {
          "base_uri": "https://localhost:8080/"
        }
      },
      "id": "1aP_1-w0v2Ez",
      "execution_count": 16,
      "outputs": [
        {
          "output_type": "execute_result",
          "data": {
            "text/plain": [
              "1.3333333333333333"
            ]
          },
          "metadata": {},
          "execution_count": 16
        }
      ]
    },
    {
      "cell_type": "code",
      "source": [
        "4 // 3"
      ],
      "metadata": {
        "id": "CNxqdN2KwHJ_",
        "outputId": "bfdcd8bb-e80c-486d-8237-c233b8f89a97",
        "colab": {
          "base_uri": "https://localhost:8080/"
        }
      },
      "id": "CNxqdN2KwHJ_",
      "execution_count": 17,
      "outputs": [
        {
          "output_type": "execute_result",
          "data": {
            "text/plain": [
              "1"
            ]
          },
          "metadata": {},
          "execution_count": 17
        }
      ]
    },
    {
      "cell_type": "code",
      "source": [
        "4 % 3 # remainder"
      ],
      "metadata": {
        "id": "2EGN66T7wLpP",
        "outputId": "50d199d3-9e3a-4296-9239-376dad2b8fc0",
        "colab": {
          "base_uri": "https://localhost:8080/"
        }
      },
      "id": "2EGN66T7wLpP",
      "execution_count": 18,
      "outputs": [
        {
          "output_type": "execute_result",
          "data": {
            "text/plain": [
              "1"
            ]
          },
          "metadata": {},
          "execution_count": 18
        }
      ]
    },
    {
      "cell_type": "code",
      "source": [
        "5%3"
      ],
      "metadata": {
        "id": "qgT2N-bYwPdF",
        "outputId": "89e30d94-3ff6-4594-d69b-fb76ee0e9540",
        "colab": {
          "base_uri": "https://localhost:8080/"
        }
      },
      "id": "qgT2N-bYwPdF",
      "execution_count": 19,
      "outputs": [
        {
          "output_type": "execute_result",
          "data": {
            "text/plain": [
              "2"
            ]
          },
          "metadata": {},
          "execution_count": 19
        }
      ]
    },
    {
      "cell_type": "code",
      "source": [
        "5 // 2 # without remainder \"floor\""
      ],
      "metadata": {
        "id": "zxpMeNqUwmU9",
        "outputId": "db5c1d3d-c519-4169-cf8c-b6421a7fac4b",
        "colab": {
          "base_uri": "https://localhost:8080/"
        }
      },
      "id": "zxpMeNqUwmU9",
      "execution_count": 20,
      "outputs": [
        {
          "output_type": "execute_result",
          "data": {
            "text/plain": [
              "2"
            ]
          },
          "metadata": {},
          "execution_count": 20
        }
      ]
    },
    {
      "cell_type": "code",
      "source": [
        "5*5"
      ],
      "metadata": {
        "id": "1Kozc3i4wvJf",
        "outputId": "92639f9d-acea-44f2-bdfb-4a8bc8352993",
        "colab": {
          "base_uri": "https://localhost:8080/"
        }
      },
      "id": "1Kozc3i4wvJf",
      "execution_count": 21,
      "outputs": [
        {
          "output_type": "execute_result",
          "data": {
            "text/plain": [
              "25"
            ]
          },
          "metadata": {},
          "execution_count": 21
        }
      ]
    },
    {
      "cell_type": "code",
      "source": [
        "5**3"
      ],
      "metadata": {
        "id": "Jdknh1ppxAbR",
        "outputId": "00e86331-d483-4930-d21e-a9b7f7521533",
        "colab": {
          "base_uri": "https://localhost:8080/"
        }
      },
      "id": "Jdknh1ppxAbR",
      "execution_count": 22,
      "outputs": [
        {
          "output_type": "execute_result",
          "data": {
            "text/plain": [
              "125"
            ]
          },
          "metadata": {},
          "execution_count": 22
        }
      ]
    },
    {
      "cell_type": "code",
      "source": [
        "print"
      ],
      "metadata": {
        "id": "pw8S6xXWxCr-",
        "outputId": "3f4be755-5951-474c-802e-9d5b20cc3436",
        "colab": {
          "base_uri": "https://localhost:8080/"
        }
      },
      "id": "pw8S6xXWxCr-",
      "execution_count": 23,
      "outputs": [
        {
          "output_type": "execute_result",
          "data": {
            "text/plain": [
              "<function print(*args, sep=' ', end='\\n', file=None, flush=False)>"
            ]
          },
          "metadata": {},
          "execution_count": 23
        }
      ]
    },
    {
      "cell_type": "markdown",
      "source": [
        "Variables"
      ],
      "metadata": {
        "id": "qwf3-ktA73dW"
      },
      "id": "qwf3-ktA73dW"
    },
    {
      "cell_type": "code",
      "source": [
        "y = 5"
      ],
      "metadata": {
        "id": "l2EeneDC7qa4"
      },
      "id": "l2EeneDC7qa4",
      "execution_count": 24,
      "outputs": []
    },
    {
      "cell_type": "code",
      "source": [
        "y"
      ],
      "metadata": {
        "id": "S-snuawO72gv",
        "outputId": "e011d768-8246-4ed1-d7df-28fa86476624",
        "colab": {
          "base_uri": "https://localhost:8080/"
        }
      },
      "id": "S-snuawO72gv",
      "execution_count": 25,
      "outputs": [
        {
          "output_type": "execute_result",
          "data": {
            "text/plain": [
              "5"
            ]
          },
          "metadata": {},
          "execution_count": 25
        }
      ]
    },
    {
      "cell_type": "code",
      "source": [
        "# a bool is a datatype too"
      ],
      "metadata": {
        "id": "2jr2EOcK7_wO"
      },
      "id": "2jr2EOcK7_wO",
      "execution_count": 26,
      "outputs": []
    },
    {
      "cell_type": "code",
      "source": [
        "True"
      ],
      "metadata": {
        "id": "wdOnuIyL8H0r",
        "outputId": "63836a63-ba1a-4269-9af4-198de793a570",
        "colab": {
          "base_uri": "https://localhost:8080/"
        }
      },
      "id": "wdOnuIyL8H0r",
      "execution_count": 27,
      "outputs": [
        {
          "output_type": "execute_result",
          "data": {
            "text/plain": [
              "True"
            ]
          },
          "metadata": {},
          "execution_count": 27
        }
      ]
    },
    {
      "cell_type": "code",
      "source": [
        "False"
      ],
      "metadata": {
        "id": "xQ1CdVyN8L8h",
        "outputId": "79672c60-6a5d-4e50-cc42-3faabf4ec2ff",
        "colab": {
          "base_uri": "https://localhost:8080/"
        }
      },
      "id": "xQ1CdVyN8L8h",
      "execution_count": 28,
      "outputs": [
        {
          "output_type": "execute_result",
          "data": {
            "text/plain": [
              "False"
            ]
          },
          "metadata": {},
          "execution_count": 28
        }
      ]
    },
    {
      "cell_type": "code",
      "source": [
        "type(True)"
      ],
      "metadata": {
        "id": "egNZ0wzr8NTy",
        "outputId": "673a3eee-fea8-499d-a88e-69630734244c",
        "colab": {
          "base_uri": "https://localhost:8080/"
        }
      },
      "id": "egNZ0wzr8NTy",
      "execution_count": 29,
      "outputs": [
        {
          "output_type": "execute_result",
          "data": {
            "text/plain": [
              "bool"
            ]
          },
          "metadata": {},
          "execution_count": 29
        }
      ]
    },
    {
      "cell_type": "code",
      "source": [
        "4 < 3"
      ],
      "metadata": {
        "id": "mGzzOI5R8QEV",
        "outputId": "31dc06f9-92de-4e99-e84b-d2fd38b6ed8d",
        "colab": {
          "base_uri": "https://localhost:8080/"
        }
      },
      "id": "mGzzOI5R8QEV",
      "execution_count": 30,
      "outputs": [
        {
          "output_type": "execute_result",
          "data": {
            "text/plain": [
              "False"
            ]
          },
          "metadata": {},
          "execution_count": 30
        }
      ]
    },
    {
      "cell_type": "code",
      "source": [
        "not True"
      ],
      "metadata": {
        "id": "6AIZqX0x8bMS",
        "outputId": "19b94ff8-fcbc-4333-824e-0f7384e825a2",
        "colab": {
          "base_uri": "https://localhost:8080/"
        }
      },
      "id": "6AIZqX0x8bMS",
      "execution_count": 31,
      "outputs": [
        {
          "output_type": "execute_result",
          "data": {
            "text/plain": [
              "False"
            ]
          },
          "metadata": {},
          "execution_count": 31
        }
      ]
    },
    {
      "cell_type": "code",
      "source": [
        "not False"
      ],
      "metadata": {
        "id": "1PFz1SOr8fH5",
        "outputId": "81fe075c-8608-4877-c642-662a91502295",
        "colab": {
          "base_uri": "https://localhost:8080/"
        }
      },
      "id": "1PFz1SOr8fH5",
      "execution_count": 32,
      "outputs": [
        {
          "output_type": "execute_result",
          "data": {
            "text/plain": [
              "True"
            ]
          },
          "metadata": {},
          "execution_count": 32
        }
      ]
    },
    {
      "cell_type": "code",
      "source": [
        "3 >= 3"
      ],
      "metadata": {
        "id": "rH3MbWNp8h32",
        "colab": {
          "base_uri": "https://localhost:8080/"
        },
        "outputId": "ae5b61a4-4947-4e4e-f2f1-2ea77449ea83"
      },
      "id": "rH3MbWNp8h32",
      "execution_count": 33,
      "outputs": [
        {
          "output_type": "execute_result",
          "data": {
            "text/plain": [
              "True"
            ]
          },
          "metadata": {},
          "execution_count": 33
        }
      ]
    },
    {
      "cell_type": "code",
      "source": [
        "2 != 3"
      ],
      "metadata": {
        "colab": {
          "base_uri": "https://localhost:8080/"
        },
        "id": "LdDIKLGN5BoW",
        "outputId": "df4054e3-c0c0-4394-98b9-fc6f39715736"
      },
      "id": "LdDIKLGN5BoW",
      "execution_count": 34,
      "outputs": [
        {
          "output_type": "execute_result",
          "data": {
            "text/plain": [
              "True"
            ]
          },
          "metadata": {},
          "execution_count": 34
        }
      ]
    },
    {
      "cell_type": "code",
      "source": [
        "# 3 = 2 # can't assign to a literal\n",
        "3 == 2 # asking, comparison operator\n"
      ],
      "metadata": {
        "colab": {
          "base_uri": "https://localhost:8080/"
        },
        "id": "VR1qSW9z5ZAn",
        "outputId": "896044e4-b99a-4afa-e7a6-19bbe229876b"
      },
      "id": "VR1qSW9z5ZAn",
      "execution_count": 35,
      "outputs": [
        {
          "output_type": "execute_result",
          "data": {
            "text/plain": [
              "False"
            ]
          },
          "metadata": {},
          "execution_count": 35
        }
      ]
    },
    {
      "cell_type": "code",
      "source": [
        "# if statements"
      ],
      "metadata": {
        "id": "ckmzN5Q35tN3"
      },
      "id": "ckmzN5Q35tN3",
      "execution_count": 36,
      "outputs": []
    },
    {
      "cell_type": "code",
      "source": [
        "if True:\n",
        "  print(1)"
      ],
      "metadata": {
        "colab": {
          "base_uri": "https://localhost:8080/"
        },
        "id": "bbHcp9vO6BjC",
        "outputId": "54a76281-e7bc-472a-c3f1-39bdee00d9f3"
      },
      "id": "bbHcp9vO6BjC",
      "execution_count": 37,
      "outputs": [
        {
          "output_type": "stream",
          "name": "stdout",
          "text": [
            "1\n"
          ]
        }
      ]
    },
    {
      "cell_type": "code",
      "source": [
        "if False: # basically if is on off switch\n",
        "  print(1)"
      ],
      "metadata": {
        "id": "kAjUmWf86G15"
      },
      "id": "kAjUmWf86G15",
      "execution_count": 38,
      "outputs": []
    },
    {
      "cell_type": "code",
      "source": [
        "if 7 > 3:\n",
        "  print(4)"
      ],
      "metadata": {
        "colab": {
          "base_uri": "https://localhost:8080/"
        },
        "id": "CCRRvK4z6L7t",
        "outputId": "024524ae-e579-4690-eac3-5d5c6b9920a4"
      },
      "id": "CCRRvK4z6L7t",
      "execution_count": 39,
      "outputs": [
        {
          "output_type": "stream",
          "name": "stdout",
          "text": [
            "4\n"
          ]
        }
      ]
    },
    {
      "cell_type": "code",
      "source": [
        "grocery_list = [\"banana\", \"orange\", \"blueberries\"]"
      ],
      "metadata": {
        "id": "rId18rTc5Zqc"
      },
      "id": "rId18rTc5Zqc",
      "execution_count": 40,
      "outputs": []
    },
    {
      "cell_type": "code",
      "source": [
        "grocery_list.append(\"fruit\")"
      ],
      "metadata": {
        "id": "tWEVy2dA58_-"
      },
      "id": "tWEVy2dA58_-",
      "execution_count": 41,
      "outputs": []
    },
    {
      "cell_type": "code",
      "source": [
        "grocery_list"
      ],
      "metadata": {
        "id": "aHp73hUa6E0V",
        "outputId": "87938547-e9df-44f5-cc46-6bcae2c06298",
        "colab": {
          "base_uri": "https://localhost:8080/"
        }
      },
      "id": "aHp73hUa6E0V",
      "execution_count": 42,
      "outputs": [
        {
          "output_type": "execute_result",
          "data": {
            "text/plain": [
              "['banana', 'orange', 'blueberries', 'fruit']"
            ]
          },
          "metadata": {},
          "execution_count": 42
        }
      ]
    },
    {
      "cell_type": "code",
      "source": [
        "type(grocery_list)"
      ],
      "metadata": {
        "id": "1DWc8kdB6Frx",
        "outputId": "9dc20806-19a9-45c5-c783-f73621b52633",
        "colab": {
          "base_uri": "https://localhost:8080/"
        }
      },
      "id": "1DWc8kdB6Frx",
      "execution_count": 43,
      "outputs": [
        {
          "output_type": "execute_result",
          "data": {
            "text/plain": [
              "list"
            ]
          },
          "metadata": {},
          "execution_count": 43
        }
      ]
    },
    {
      "cell_type": "code",
      "source": [
        "# lists are crazy powerful"
      ],
      "metadata": {
        "id": "bg30TUBL6Iql"
      },
      "id": "bg30TUBL6Iql",
      "execution_count": 44,
      "outputs": []
    },
    {
      "cell_type": "code",
      "source": [
        "for item in grocery_list: # for each item in the grocery list print the item\n",
        "  print(item)"
      ],
      "metadata": {
        "id": "CUtvNZjv6M_H",
        "outputId": "668903c9-bd56-4f0b-fd4e-ebea02c8057b",
        "colab": {
          "base_uri": "https://localhost:8080/"
        }
      },
      "id": "CUtvNZjv6M_H",
      "execution_count": 45,
      "outputs": [
        {
          "output_type": "stream",
          "name": "stdout",
          "text": [
            "banana\n",
            "orange\n",
            "blueberries\n",
            "fruit\n"
          ]
        }
      ]
    },
    {
      "cell_type": "code",
      "source": [
        "grocery_list[0]"
      ],
      "metadata": {
        "id": "c-xfjnHp6TnY",
        "outputId": "7e309493-676a-48a5-f774-95d1e207c4b5",
        "colab": {
          "base_uri": "https://localhost:8080/",
          "height": 35
        }
      },
      "id": "c-xfjnHp6TnY",
      "execution_count": 46,
      "outputs": [
        {
          "output_type": "execute_result",
          "data": {
            "text/plain": [
              "'banana'"
            ],
            "application/vnd.google.colaboratory.intrinsic+json": {
              "type": "string"
            }
          },
          "metadata": {},
          "execution_count": 46
        }
      ]
    },
    {
      "cell_type": "code",
      "source": [
        "grocery_list[1] # indexing, number is index, 1 is like 1 away from the first"
      ],
      "metadata": {
        "id": "RP3CQ8SX6jK7",
        "outputId": "38ceeddc-a6ae-40ae-b2ca-d952c2cf6525",
        "colab": {
          "base_uri": "https://localhost:8080/",
          "height": 35
        }
      },
      "id": "RP3CQ8SX6jK7",
      "execution_count": 47,
      "outputs": [
        {
          "output_type": "execute_result",
          "data": {
            "text/plain": [
              "'orange'"
            ],
            "application/vnd.google.colaboratory.intrinsic+json": {
              "type": "string"
            }
          },
          "metadata": {},
          "execution_count": 47
        }
      ]
    },
    {
      "cell_type": "code",
      "source": [
        "grocery_list[-1] # last one"
      ],
      "metadata": {
        "id": "wsUTyUwr6lum",
        "outputId": "1c68a226-cbbd-4cec-8808-b45dc12279de",
        "colab": {
          "base_uri": "https://localhost:8080/",
          "height": 35
        }
      },
      "id": "wsUTyUwr6lum",
      "execution_count": 48,
      "outputs": [
        {
          "output_type": "execute_result",
          "data": {
            "text/plain": [
              "'fruit'"
            ],
            "application/vnd.google.colaboratory.intrinsic+json": {
              "type": "string"
            }
          },
          "metadata": {},
          "execution_count": 48
        }
      ]
    },
    {
      "cell_type": "code",
      "source": [
        "for i in [0,1,2,3]:\n",
        "  print(grocery_list[i])\n"
      ],
      "metadata": {
        "id": "RY0RMgXS67ds",
        "colab": {
          "base_uri": "https://localhost:8080/"
        },
        "outputId": "b3589c01-65f2-41c1-a78f-590c18e9c9fd"
      },
      "id": "RY0RMgXS67ds",
      "execution_count": 49,
      "outputs": [
        {
          "output_type": "stream",
          "name": "stdout",
          "text": [
            "banana\n",
            "orange\n",
            "blueberries\n",
            "fruit\n"
          ]
        }
      ]
    },
    {
      "cell_type": "code",
      "source": [
        "for i in range(4):\n",
        "  print(grocery_list[i])"
      ],
      "metadata": {
        "colab": {
          "base_uri": "https://localhost:8080/"
        },
        "id": "M4nDjN7EtoQH",
        "outputId": "c37bb370-5dea-48a4-a353-ef57f6366d92"
      },
      "id": "M4nDjN7EtoQH",
      "execution_count": 50,
      "outputs": [
        {
          "output_type": "stream",
          "name": "stdout",
          "text": [
            "banana\n",
            "orange\n",
            "blueberries\n",
            "fruit\n"
          ]
        }
      ]
    },
    {
      "cell_type": "code",
      "source": [
        "range(5)"
      ],
      "metadata": {
        "colab": {
          "base_uri": "https://localhost:8080/"
        },
        "id": "gECPZq3Wtyo8",
        "outputId": "8d68c1c2-2c9f-46b7-cd01-748159bb3a1f"
      },
      "id": "gECPZq3Wtyo8",
      "execution_count": 51,
      "outputs": [
        {
          "output_type": "execute_result",
          "data": {
            "text/plain": [
              "range(0, 5)"
            ]
          },
          "metadata": {},
          "execution_count": 51
        }
      ]
    },
    {
      "cell_type": "code",
      "source": [
        "list(range(5))"
      ],
      "metadata": {
        "colab": {
          "base_uri": "https://localhost:8080/"
        },
        "id": "O90ILqJft_rQ",
        "outputId": "a6e49b25-dfcc-4d63-c16c-d8f5c6110f92"
      },
      "id": "O90ILqJft_rQ",
      "execution_count": 52,
      "outputs": [
        {
          "output_type": "execute_result",
          "data": {
            "text/plain": [
              "[0, 1, 2, 3, 4]"
            ]
          },
          "metadata": {},
          "execution_count": 52
        }
      ]
    },
    {
      "cell_type": "code",
      "source": [
        "len(grocery_list)"
      ],
      "metadata": {
        "colab": {
          "base_uri": "https://localhost:8080/"
        },
        "id": "66xUImK0uCBW",
        "outputId": "9e66ec85-2f37-40d9-8271-3c23799e2d2d"
      },
      "id": "66xUImK0uCBW",
      "execution_count": 53,
      "outputs": [
        {
          "output_type": "execute_result",
          "data": {
            "text/plain": [
              "4"
            ]
          },
          "metadata": {},
          "execution_count": 53
        }
      ]
    },
    {
      "cell_type": "code",
      "source": [
        "for i in range(len(grocery_list)):\n",
        "  print(grocery_list[i])"
      ],
      "metadata": {
        "colab": {
          "base_uri": "https://localhost:8080/"
        },
        "id": "M5RxGXpPuHlZ",
        "outputId": "e85414cf-6b1b-4cc3-98ad-926fc25e1527"
      },
      "id": "M5RxGXpPuHlZ",
      "execution_count": 54,
      "outputs": [
        {
          "output_type": "stream",
          "name": "stdout",
          "text": [
            "banana\n",
            "orange\n",
            "blueberries\n",
            "fruit\n"
          ]
        }
      ]
    },
    {
      "cell_type": "code",
      "source": [
        "# using range comes in handy at times, sometimes both methods\n"
      ],
      "metadata": {
        "id": "IqatjaFKuTfE"
      },
      "id": "IqatjaFKuTfE",
      "execution_count": 55,
      "outputs": []
    },
    {
      "cell_type": "code",
      "source": [
        "for i, item in enumerate(grocery_list):\n",
        "  print(i, item)"
      ],
      "metadata": {
        "colab": {
          "base_uri": "https://localhost:8080/"
        },
        "id": "3B5LmGBHueA7",
        "outputId": "d412eb3a-83e2-40c4-bfca-7d58f5c8d584"
      },
      "id": "3B5LmGBHueA7",
      "execution_count": 56,
      "outputs": [
        {
          "output_type": "stream",
          "name": "stdout",
          "text": [
            "0 banana\n",
            "1 orange\n",
            "2 blueberries\n",
            "3 fruit\n"
          ]
        }
      ]
    },
    {
      "cell_type": "code",
      "source": [
        "# index along with item"
      ],
      "metadata": {
        "id": "-TxBAp2wukfG"
      },
      "id": "-TxBAp2wukfG",
      "execution_count": 57,
      "outputs": []
    },
    {
      "cell_type": "code",
      "source": [
        "# y loop"
      ],
      "metadata": {
        "id": "oLO7g5P5umfO"
      },
      "id": "oLO7g5P5umfO",
      "execution_count": 58,
      "outputs": []
    },
    {
      "cell_type": "code",
      "source": [
        "i = 0 # first in list\n",
        "i += 1\n",
        "\n",
        "i"
      ],
      "metadata": {
        "colab": {
          "base_uri": "https://localhost:8080/"
        },
        "id": "ilM_9mdKuoHt",
        "outputId": "5e91d9c1-8beb-4dc0-c4f8-d7f5587d9e0a"
      },
      "id": "ilM_9mdKuoHt",
      "execution_count": 59,
      "outputs": [
        {
          "output_type": "execute_result",
          "data": {
            "text/plain": [
              "1"
            ]
          },
          "metadata": {},
          "execution_count": 59
        }
      ]
    },
    {
      "cell_type": "code",
      "source": [
        "i += 1\n",
        "\n",
        "i"
      ],
      "metadata": {
        "colab": {
          "base_uri": "https://localhost:8080/"
        },
        "id": "JLxoy-INuwA2",
        "outputId": "175a060c-dfd0-471c-c621-3896a158d7f8"
      },
      "id": "JLxoy-INuwA2",
      "execution_count": 60,
      "outputs": [
        {
          "output_type": "execute_result",
          "data": {
            "text/plain": [
              "2"
            ]
          },
          "metadata": {},
          "execution_count": 60
        }
      ]
    },
    {
      "cell_type": "code",
      "source": [
        "# can also decrement"
      ],
      "metadata": {
        "id": "kFOJXBRxuxTt"
      },
      "id": "kFOJXBRxuxTt",
      "execution_count": 61,
      "outputs": []
    },
    {
      "cell_type": "code",
      "source": [
        "grocery_list.append(4)"
      ],
      "metadata": {
        "id": "FEg5z9fLu4Wa"
      },
      "id": "FEg5z9fLu4Wa",
      "execution_count": 62,
      "outputs": []
    },
    {
      "cell_type": "code",
      "source": [
        "grocery_list"
      ],
      "metadata": {
        "id": "_zKURkS1vTBG",
        "outputId": "ef2e44cb-7b5e-4e2f-ccaa-02d9dd446afb",
        "colab": {
          "base_uri": "https://localhost:8080/"
        }
      },
      "id": "_zKURkS1vTBG",
      "execution_count": 63,
      "outputs": [
        {
          "output_type": "execute_result",
          "data": {
            "text/plain": [
              "['banana', 'orange', 'blueberries', 'fruit', 4]"
            ]
          },
          "metadata": {},
          "execution_count": 63
        }
      ]
    },
    {
      "cell_type": "code",
      "source": [
        "j = len(grocery_list) - 1 # going down\n",
        "\n",
        "while j >= 0:\n",
        "  print(grocery_list[j])\n",
        "  j -= 1\n",
        "\n",
        "print('end')\n"
      ],
      "metadata": {
        "id": "1lcvFh3ZvT2W",
        "outputId": "47d87f52-da5a-4a6d-9535-ff8f03d3c56d",
        "colab": {
          "base_uri": "https://localhost:8080/"
        }
      },
      "id": "1lcvFh3ZvT2W",
      "execution_count": 64,
      "outputs": [
        {
          "output_type": "stream",
          "name": "stdout",
          "text": [
            "4\n",
            "fruit\n",
            "blueberries\n",
            "orange\n",
            "banana\n",
            "end\n"
          ]
        }
      ]
    },
    {
      "cell_type": "code",
      "source": [
        "i = 0\n",
        "\n",
        "while i < len(grocery_list): # if it was <= 5, then there would be none, it goes 0,1,2,3,4 no 5 index\n",
        "  print(grocery_list[i])\n",
        "  i += 1\n"
      ],
      "metadata": {
        "id": "UJRZIIVzvgJA",
        "outputId": "eb209250-0faa-4c7f-e6d1-c96a5c2e25e5",
        "colab": {
          "base_uri": "https://localhost:8080/"
        }
      },
      "id": "UJRZIIVzvgJA",
      "execution_count": 65,
      "outputs": [
        {
          "output_type": "stream",
          "name": "stdout",
          "text": [
            "banana\n",
            "orange\n",
            "blueberries\n",
            "fruit\n",
            "4\n"
          ]
        }
      ]
    },
    {
      "cell_type": "code",
      "source": [
        "if False:\n",
        "  print(1)\n",
        "elif True: # change to False will print 3\n",
        "  print(2)\n",
        "else: # no matter what, if none of above is done\n",
        "  print(3)\n",
        "\n",
        "print('end')"
      ],
      "metadata": {
        "id": "5eKxhJjJwfte",
        "outputId": "89e30f26-a118-4cf5-b9c4-e7db9f74a2e2",
        "colab": {
          "base_uri": "https://localhost:8080/"
        }
      },
      "id": "5eKxhJjJwfte",
      "execution_count": 66,
      "outputs": [
        {
          "output_type": "stream",
          "name": "stdout",
          "text": [
            "2\n",
            "end\n"
          ]
        }
      ]
    },
    {
      "cell_type": "code",
      "source": [
        "True or False # or chooses the True"
      ],
      "metadata": {
        "id": "jVLAp3Trwl69",
        "outputId": "bd50c59a-6fa2-4611-9e3a-775abd6db46e",
        "colab": {
          "base_uri": "https://localhost:8080/"
        }
      },
      "id": "jVLAp3Trwl69",
      "execution_count": 67,
      "outputs": [
        {
          "output_type": "execute_result",
          "data": {
            "text/plain": [
              "True"
            ]
          },
          "metadata": {},
          "execution_count": 67
        }
      ]
    },
    {
      "cell_type": "code",
      "source": [
        "# and only happy if both are True\n",
        "True and False"
      ],
      "metadata": {
        "id": "2sa7OT2vxYVv",
        "outputId": "b27878ab-e512-44c3-9e72-6f8975fe8397",
        "colab": {
          "base_uri": "https://localhost:8080/"
        }
      },
      "id": "2sa7OT2vxYVv",
      "execution_count": 68,
      "outputs": [
        {
          "output_type": "execute_result",
          "data": {
            "text/plain": [
              "False"
            ]
          },
          "metadata": {},
          "execution_count": 68
        }
      ]
    },
    {
      "cell_type": "code",
      "source": [
        "(3 > 4) and (4 > 5)"
      ],
      "metadata": {
        "id": "jnL6nC8YxjIY",
        "outputId": "7a4a8f3d-9044-46a7-f930-9568b546e8dd",
        "colab": {
          "base_uri": "https://localhost:8080/"
        }
      },
      "id": "jnL6nC8YxjIY",
      "execution_count": 69,
      "outputs": [
        {
          "output_type": "execute_result",
          "data": {
            "text/plain": [
              "False"
            ]
          },
          "metadata": {},
          "execution_count": 69
        }
      ]
    },
    {
      "cell_type": "code",
      "source": [
        "(3 > 4) or (5 > 4)"
      ],
      "metadata": {
        "id": "EAenvWzexrrI",
        "outputId": "51603b36-d84d-4bad-b4b8-4b0e6dd375f6",
        "colab": {
          "base_uri": "https://localhost:8080/"
        }
      },
      "id": "EAenvWzexrrI",
      "execution_count": 70,
      "outputs": [
        {
          "output_type": "execute_result",
          "data": {
            "text/plain": [
              "True"
            ]
          },
          "metadata": {},
          "execution_count": 70
        }
      ]
    },
    {
      "cell_type": "code",
      "source": [
        "age = 15\n",
        "\n",
        "if age <= 1: # pay attention to edge cases\n",
        "  print(\"Newborn\")\n",
        "elif age < 5:\n",
        "  print(\"Young\")\n",
        "elif age < 20:\n",
        "  print(\"Teen\")\n",
        "else:\n",
        "  print(\"Adult\")\n",
        "\n",
        "print(\"end\")"
      ],
      "metadata": {
        "id": "o-Ryo3U4xw9J",
        "outputId": "b5490d34-4d51-41f4-9c5c-702691a5a47e",
        "colab": {
          "base_uri": "https://localhost:8080/"
        }
      },
      "id": "o-Ryo3U4xw9J",
      "execution_count": 71,
      "outputs": [
        {
          "output_type": "stream",
          "name": "stdout",
          "text": [
            "Teen\n",
            "end\n"
          ]
        }
      ]
    },
    {
      "cell_type": "code",
      "source": [
        "age = 2\n",
        "\n",
        "if age <= 1: # pay attention to edge cases\n",
        "  print(\"Newborn\")\n",
        "elif (age >= 13) and (age <= 19):\n",
        "  print(\"Teen\")\n",
        "else:\n",
        "  print(\"Not newborn and not teen\")\n",
        "\n",
        "print(\"end\")"
      ],
      "metadata": {
        "id": "7V9tMZ16yRxF",
        "outputId": "7d2c7231-2660-449c-f43f-f7e367f6be0b",
        "colab": {
          "base_uri": "https://localhost:8080/"
        }
      },
      "id": "7V9tMZ16yRxF",
      "execution_count": 72,
      "outputs": [
        {
          "output_type": "stream",
          "name": "stdout",
          "text": [
            "Not newborn and not teen\n",
            "end\n"
          ]
        }
      ]
    },
    {
      "cell_type": "code",
      "source": [
        "# Functions, crucial topic"
      ],
      "metadata": {
        "id": "gNuYSIXTy2r1"
      },
      "id": "gNuYSIXTy2r1",
      "execution_count": 73,
      "outputs": []
    },
    {
      "cell_type": "code",
      "source": [
        "def our_print(s):\n",
        "  \"\"\"our version of print\n",
        "  - whatever string you pass, it prints\"\"\"\n",
        "  print(s)\n",
        "\n",
        "our_print(\"Hello\")\n"
      ],
      "metadata": {
        "id": "_J6BMgSZy9sM",
        "outputId": "fd95681d-03bd-4726-c975-d86d30913bb0",
        "colab": {
          "base_uri": "https://localhost:8080/"
        }
      },
      "id": "_J6BMgSZy9sM",
      "execution_count": 74,
      "outputs": [
        {
          "output_type": "stream",
          "name": "stdout",
          "text": [
            "Hello\n"
          ]
        }
      ]
    },
    {
      "cell_type": "code",
      "source": [
        "def our_print(s):\n",
        "  \"\"\"\n",
        "  our version of print\n",
        "  - whatever string you pass, it prints\n",
        "  - now adds hello also\n",
        "  \"\"\"\n",
        "  print(s)\n",
        "  print(s + \" Hello\")\n",
        "\n",
        "our_print(\"Hello\")"
      ],
      "metadata": {
        "id": "erxNuE8rzpHi",
        "outputId": "6aa33798-fe90-4149-8e76-cc154f2bc159",
        "colab": {
          "base_uri": "https://localhost:8080/"
        }
      },
      "id": "erxNuE8rzpHi",
      "execution_count": 75,
      "outputs": [
        {
          "output_type": "stream",
          "name": "stdout",
          "text": [
            "Hello\n",
            "Hello Hello\n"
          ]
        }
      ]
    },
    {
      "cell_type": "code",
      "source": [
        "# s, parameter only in scope of function, within function, outside function has no meaning\n"
      ],
      "metadata": {
        "id": "GijA7mMBz2M2"
      },
      "id": "GijA7mMBz2M2",
      "execution_count": 76,
      "outputs": []
    },
    {
      "cell_type": "code",
      "source": [
        "s = 87"
      ],
      "metadata": {
        "id": "nCYnwCqDz-aP"
      },
      "id": "nCYnwCqDz-aP",
      "execution_count": 77,
      "outputs": []
    },
    {
      "cell_type": "code",
      "source": [
        "our_print(\"Hello\")"
      ],
      "metadata": {
        "id": "v8RqWTxm0a2V",
        "outputId": "1add0156-1c66-437d-a92c-e1ef19bb06a4",
        "colab": {
          "base_uri": "https://localhost:8080/"
        }
      },
      "id": "v8RqWTxm0a2V",
      "execution_count": 78,
      "outputs": [
        {
          "output_type": "stream",
          "name": "stdout",
          "text": [
            "Hello\n",
            "Hello Hello\n"
          ]
        }
      ]
    },
    {
      "cell_type": "code",
      "source": [
        "# outside s doesn't matter, the other s is local !"
      ],
      "metadata": {
        "id": "cF_pb1nt0inz"
      },
      "id": "cF_pb1nt0inz",
      "execution_count": 79,
      "outputs": []
    },
    {
      "cell_type": "code",
      "source": [
        "type(s)"
      ],
      "metadata": {
        "id": "mYhnMFqF0mnX",
        "colab": {
          "base_uri": "https://localhost:8080/"
        },
        "outputId": "c3aa7311-fcc0-47f5-e6e7-bb7352302f9b"
      },
      "id": "mYhnMFqF0mnX",
      "execution_count": 80,
      "outputs": [
        {
          "output_type": "execute_result",
          "data": {
            "text/plain": [
              "int"
            ]
          },
          "metadata": {},
          "execution_count": 80
        }
      ]
    },
    {
      "cell_type": "code",
      "source": [
        "help(print)"
      ],
      "metadata": {
        "colab": {
          "base_uri": "https://localhost:8080/"
        },
        "id": "_TE6Lm-nvDMV",
        "outputId": "4ad5074c-48cd-4995-9bd2-dd78c0ec518c"
      },
      "id": "_TE6Lm-nvDMV",
      "execution_count": 81,
      "outputs": [
        {
          "output_type": "stream",
          "name": "stdout",
          "text": [
            "Help on built-in function print in module builtins:\n",
            "\n",
            "print(*args, sep=' ', end='\\n', file=None, flush=False)\n",
            "    Prints the values to a stream, or to sys.stdout by default.\n",
            "\n",
            "    sep\n",
            "      string inserted between values, default a space.\n",
            "    end\n",
            "      string appended after the last value, default a newline.\n",
            "    file\n",
            "      a file-like object (stream); defaults to the current sys.stdout.\n",
            "    flush\n",
            "      whether to forcibly flush the stream.\n",
            "\n"
          ]
        }
      ]
    },
    {
      "cell_type": "code",
      "source": [
        "print(\"hi\", \"3.3\")"
      ],
      "metadata": {
        "colab": {
          "base_uri": "https://localhost:8080/"
        },
        "id": "pcDgSDE0vHG9",
        "outputId": "f98486e8-a79b-4716-c8dd-e6df9aeb2e93"
      },
      "id": "pcDgSDE0vHG9",
      "execution_count": 82,
      "outputs": [
        {
          "output_type": "stream",
          "name": "stdout",
          "text": [
            "hi 3.3\n"
          ]
        }
      ]
    },
    {
      "cell_type": "code",
      "source": [
        "print(dir(list))"
      ],
      "metadata": {
        "colab": {
          "base_uri": "https://localhost:8080/"
        },
        "id": "uq6386vuvh5s",
        "outputId": "04ff03b0-c0fb-4773-a142-8b6c6dda2d98"
      },
      "id": "uq6386vuvh5s",
      "execution_count": 83,
      "outputs": [
        {
          "output_type": "stream",
          "name": "stdout",
          "text": [
            "['__add__', '__class__', '__class_getitem__', '__contains__', '__delattr__', '__delitem__', '__dir__', '__doc__', '__eq__', '__format__', '__ge__', '__getattribute__', '__getitem__', '__getstate__', '__gt__', '__hash__', '__iadd__', '__imul__', '__init__', '__init_subclass__', '__iter__', '__le__', '__len__', '__lt__', '__mul__', '__ne__', '__new__', '__reduce__', '__reduce_ex__', '__repr__', '__reversed__', '__rmul__', '__setattr__', '__setitem__', '__sizeof__', '__str__', '__subclasshook__', 'append', 'clear', 'copy', 'count', 'extend', 'index', 'insert', 'pop', 'remove', 'reverse', 'sort']\n"
          ]
        }
      ]
    },
    {
      "cell_type": "code",
      "source": [
        "print(callable(print))  # True\n",
        "print(callable(10))     # False"
      ],
      "metadata": {
        "colab": {
          "base_uri": "https://localhost:8080/"
        },
        "id": "o-gAe0WvvoM-",
        "outputId": "ffbb6477-d58c-400b-b5e8-b9c219aa3532"
      },
      "id": "o-gAe0WvvoM-",
      "execution_count": 84,
      "outputs": [
        {
          "output_type": "stream",
          "name": "stdout",
          "text": [
            "True\n",
            "False\n"
          ]
        }
      ]
    },
    {
      "cell_type": "code",
      "source": [
        "print(print.__doc__)"
      ],
      "metadata": {
        "colab": {
          "base_uri": "https://localhost:8080/"
        },
        "id": "ntkdPNuZvtRD",
        "outputId": "8a57eceb-d4e8-49a5-c857-dfccd404860f"
      },
      "id": "ntkdPNuZvtRD",
      "execution_count": 85,
      "outputs": [
        {
          "output_type": "stream",
          "name": "stdout",
          "text": [
            "Prints the values to a stream, or to sys.stdout by default.\n",
            "\n",
            "  sep\n",
            "    string inserted between values, default a space.\n",
            "  end\n",
            "    string appended after the last value, default a newline.\n",
            "  file\n",
            "    a file-like object (stream); defaults to the current sys.stdout.\n",
            "  flush\n",
            "    whether to forcibly flush the stream.\n"
          ]
        }
      ]
    },
    {
      "cell_type": "code",
      "source": [
        "class Dog:\n",
        "    def __init__(self, name, age):\n",
        "        self.name = name\n",
        "        self.age = age\n",
        "\n",
        "    def bark(self):\n",
        "        print(f\"{self.name} says woof!\")\n",
        "\n",
        "# create (instantiate) objects from that class\n",
        "dog1 = Dog(\"Buddy\", 3)\n",
        "dog2 = Dog(\"Max\", 2)\n",
        "\n",
        "dog1.bark()  # Buddy says woof!\n",
        "dog2.bark()  # Max says woof!"
      ],
      "metadata": {
        "colab": {
          "base_uri": "https://localhost:8080/"
        },
        "id": "j-ShNiAdvwiD",
        "outputId": "dd1f45bd-7673-4f92-e5c0-b1abf06b86d6"
      },
      "id": "j-ShNiAdvwiD",
      "execution_count": 86,
      "outputs": [
        {
          "output_type": "stream",
          "name": "stdout",
          "text": [
            "Buddy says woof!\n",
            "Max says woof!\n"
          ]
        }
      ]
    },
    {
      "cell_type": "code",
      "source": [
        "z = 42"
      ],
      "metadata": {
        "id": "suSop1VYwKt7"
      },
      "id": "suSop1VYwKt7",
      "execution_count": 87,
      "outputs": []
    },
    {
      "cell_type": "code",
      "source": [
        "# outside variable z can be be used prior if saved"
      ],
      "metadata": {
        "id": "9Rgc9v7jYxUa"
      },
      "id": "9Rgc9v7jYxUa",
      "execution_count": 88,
      "outputs": []
    },
    {
      "cell_type": "code",
      "source": [
        "def times_2(x):\n",
        "  return x*2\n",
        "\n",
        "times_2(5)"
      ],
      "metadata": {
        "id": "wa6zy27XZCgP",
        "outputId": "d5c05072-3e4b-477d-a830-7c7c52f48880",
        "colab": {
          "base_uri": "https://localhost:8080/"
        }
      },
      "id": "wa6zy27XZCgP",
      "execution_count": 89,
      "outputs": [
        {
          "output_type": "execute_result",
          "data": {
            "text/plain": [
              "10"
            ]
          },
          "metadata": {},
          "execution_count": 89
        }
      ]
    },
    {
      "cell_type": "code",
      "source": [
        "print(our_print(\"Hi\"))"
      ],
      "metadata": {
        "id": "PammuveKZOcw",
        "outputId": "08dc9445-01fc-4910-b57b-04ffc0a94b2f",
        "colab": {
          "base_uri": "https://localhost:8080/"
        }
      },
      "id": "PammuveKZOcw",
      "execution_count": 91,
      "outputs": [
        {
          "output_type": "stream",
          "name": "stdout",
          "text": [
            "Hi\n",
            "Hi Hello\n",
            "None\n"
          ]
        }
      ]
    },
    {
      "cell_type": "code",
      "source": [],
      "metadata": {
        "id": "lInJZEmSZgNr"
      },
      "id": "lInJZEmSZgNr",
      "execution_count": 91,
      "outputs": []
    }
  ],
  "metadata": {
    "kernelspec": {
      "display_name": "base",
      "language": "python",
      "name": "python3"
    },
    "language_info": {
      "codemirror_mode": {
        "name": "ipython",
        "version": 3
      },
      "file_extension": ".py",
      "mimetype": "text/x-python",
      "name": "python",
      "nbconvert_exporter": "python",
      "pygments_lexer": "ipython3",
      "version": "3.11.5"
    },
    "colab": {
      "provenance": []
    }
  },
  "nbformat": 4,
  "nbformat_minor": 5
}