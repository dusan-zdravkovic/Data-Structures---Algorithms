{
  "cells": [
    {
      "cell_type": "code",
      "execution_count": 2,
      "id": "89f5be7d",
      "metadata": {
        "id": "89f5be7d",
        "outputId": "bc806bd8-00d8-4e24-b4b8-7ef677a42ff5",
        "colab": {
          "base_uri": "https://localhost:8080/"
        }
      },
      "outputs": [
        {
          "output_type": "stream",
          "name": "stdout",
          "text": [
            "Hello World\n"
          ]
        }
      ],
      "source": [
        "print(\"Hello World\") # string of Hello World"
      ]
    },
    {
      "cell_type": "code",
      "execution_count": 3,
      "id": "218c5953",
      "metadata": {
        "colab": {
          "base_uri": "https://localhost:8080/"
        },
        "id": "218c5953",
        "outputId": "3abd55d8-ff52-4087-a3d3-fd31cca551fa"
      },
      "outputs": [
        {
          "output_type": "execute_result",
          "data": {
            "text/plain": [
              "str"
            ]
          },
          "metadata": {},
          "execution_count": 3
        }
      ],
      "source": [
        "type('Hello World')"
      ]
    },
    {
      "cell_type": "code",
      "source": [
        "\"My name is Dusan, I am 24\""
      ],
      "metadata": {
        "id": "vPsUelR2uC_J",
        "outputId": "182f9d00-b2e9-4fbe-d987-1b272fae646a",
        "colab": {
          "base_uri": "https://localhost:8080/",
          "height": 35
        }
      },
      "id": "vPsUelR2uC_J",
      "execution_count": 4,
      "outputs": [
        {
          "output_type": "execute_result",
          "data": {
            "text/plain": [
              "'My name is Dusan, I am 24'"
            ],
            "application/vnd.google.colaboratory.intrinsic+json": {
              "type": "string"
            }
          },
          "metadata": {},
          "execution_count": 4
        }
      ]
    },
    {
      "cell_type": "code",
      "source": [
        "23 # number not string"
      ],
      "metadata": {
        "id": "-qzqsXVNuTr1",
        "outputId": "e47a1a08-b917-4f4b-d93c-7dd0025cecb0",
        "colab": {
          "base_uri": "https://localhost:8080/"
        }
      },
      "id": "-qzqsXVNuTr1",
      "execution_count": 5,
      "outputs": [
        {
          "output_type": "execute_result",
          "data": {
            "text/plain": [
              "23"
            ]
          },
          "metadata": {},
          "execution_count": 5
        }
      ]
    },
    {
      "cell_type": "code",
      "source": [
        "\"23\" + \"4\""
      ],
      "metadata": {
        "id": "tPcDzOvxuZwq",
        "outputId": "bdd90c64-cfaf-43c4-ba43-3771c803f573",
        "colab": {
          "base_uri": "https://localhost:8080/",
          "height": 35
        }
      },
      "id": "tPcDzOvxuZwq",
      "execution_count": 6,
      "outputs": [
        {
          "output_type": "execute_result",
          "data": {
            "text/plain": [
              "'234'"
            ],
            "application/vnd.google.colaboratory.intrinsic+json": {
              "type": "string"
            }
          },
          "metadata": {},
          "execution_count": 6
        }
      ]
    },
    {
      "cell_type": "code",
      "source": [
        "\"hello\" + \" world\""
      ],
      "metadata": {
        "id": "NfUCQlPSuiaj",
        "outputId": "fee99940-bb7a-4504-e9a3-48b8112e1bb6",
        "colab": {
          "base_uri": "https://localhost:8080/",
          "height": 35
        }
      },
      "id": "NfUCQlPSuiaj",
      "execution_count": 7,
      "outputs": [
        {
          "output_type": "execute_result",
          "data": {
            "text/plain": [
              "'hello world'"
            ],
            "application/vnd.google.colaboratory.intrinsic+json": {
              "type": "string"
            }
          },
          "metadata": {},
          "execution_count": 7
        }
      ]
    },
    {
      "cell_type": "code",
      "source": [
        "# \"hello\" - \" world\" # python error, tells you cannot operate on str and str like that: TypeError"
      ],
      "metadata": {
        "id": "xnL_jXuauoKh"
      },
      "id": "xnL_jXuauoKh",
      "execution_count": 8,
      "outputs": []
    },
    {
      "cell_type": "code",
      "source": [
        "3 - 2"
      ],
      "metadata": {
        "id": "lSoVOHIku4O5",
        "outputId": "ea4706e4-5534-43eb-85b3-3e8ccf477e7a",
        "colab": {
          "base_uri": "https://localhost:8080/"
        }
      },
      "id": "lSoVOHIku4O5",
      "execution_count": 9,
      "outputs": [
        {
          "output_type": "execute_result",
          "data": {
            "text/plain": [
              "1"
            ]
          },
          "metadata": {},
          "execution_count": 9
        }
      ]
    },
    {
      "cell_type": "code",
      "source": [
        "# SyntaxError, \"language error\"\n",
        "# \"hello\" + \"hi"
      ],
      "metadata": {
        "id": "mzD2ap2qvJHE"
      },
      "id": "mzD2ap2qvJHE",
      "execution_count": 10,
      "outputs": []
    },
    {
      "cell_type": "code",
      "source": [
        "type(3.2)"
      ],
      "metadata": {
        "id": "74FmbgY9vTmo",
        "outputId": "cea23aaf-8470-4f17-c66b-42e3e5d800db",
        "colab": {
          "base_uri": "https://localhost:8080/"
        }
      },
      "id": "74FmbgY9vTmo",
      "execution_count": 11,
      "outputs": [
        {
          "output_type": "execute_result",
          "data": {
            "text/plain": [
              "float"
            ]
          },
          "metadata": {},
          "execution_count": 11
        }
      ]
    },
    {
      "cell_type": "code",
      "source": [
        "type(3)"
      ],
      "metadata": {
        "id": "t2g8wnW_vp_T",
        "outputId": "74dc07fe-2082-4c73-cddb-d702f792d264",
        "colab": {
          "base_uri": "https://localhost:8080/"
        }
      },
      "id": "t2g8wnW_vp_T",
      "execution_count": 12,
      "outputs": [
        {
          "output_type": "execute_result",
          "data": {
            "text/plain": [
              "int"
            ]
          },
          "metadata": {},
          "execution_count": 12
        }
      ]
    },
    {
      "cell_type": "code",
      "source": [
        "4 / 3"
      ],
      "metadata": {
        "id": "1aP_1-w0v2Ez",
        "outputId": "cefebf60-0522-443e-ab69-9c6d04cbf237",
        "colab": {
          "base_uri": "https://localhost:8080/"
        }
      },
      "id": "1aP_1-w0v2Ez",
      "execution_count": 13,
      "outputs": [
        {
          "output_type": "execute_result",
          "data": {
            "text/plain": [
              "1.3333333333333333"
            ]
          },
          "metadata": {},
          "execution_count": 13
        }
      ]
    },
    {
      "cell_type": "code",
      "source": [
        "4 // 3"
      ],
      "metadata": {
        "id": "CNxqdN2KwHJ_",
        "outputId": "835d8cc6-58b0-4aa9-e9c7-8f70d2abe61f",
        "colab": {
          "base_uri": "https://localhost:8080/"
        }
      },
      "id": "CNxqdN2KwHJ_",
      "execution_count": 14,
      "outputs": [
        {
          "output_type": "execute_result",
          "data": {
            "text/plain": [
              "1"
            ]
          },
          "metadata": {},
          "execution_count": 14
        }
      ]
    },
    {
      "cell_type": "code",
      "source": [
        "4 % 3 # remainder"
      ],
      "metadata": {
        "id": "2EGN66T7wLpP",
        "outputId": "c14a5b7e-3f5e-42fc-888b-0fe380bfffb5",
        "colab": {
          "base_uri": "https://localhost:8080/"
        }
      },
      "id": "2EGN66T7wLpP",
      "execution_count": 15,
      "outputs": [
        {
          "output_type": "execute_result",
          "data": {
            "text/plain": [
              "1"
            ]
          },
          "metadata": {},
          "execution_count": 15
        }
      ]
    },
    {
      "cell_type": "code",
      "source": [
        "5%3"
      ],
      "metadata": {
        "id": "qgT2N-bYwPdF",
        "outputId": "a120c376-a1f7-4a59-c9fa-4d11e13ef508",
        "colab": {
          "base_uri": "https://localhost:8080/"
        }
      },
      "id": "qgT2N-bYwPdF",
      "execution_count": 16,
      "outputs": [
        {
          "output_type": "execute_result",
          "data": {
            "text/plain": [
              "2"
            ]
          },
          "metadata": {},
          "execution_count": 16
        }
      ]
    },
    {
      "cell_type": "code",
      "source": [
        "5 // 2 # without remainder \"floor\""
      ],
      "metadata": {
        "id": "zxpMeNqUwmU9",
        "outputId": "5f81c23c-feea-479c-bbf9-c2ead5449439",
        "colab": {
          "base_uri": "https://localhost:8080/"
        }
      },
      "id": "zxpMeNqUwmU9",
      "execution_count": 17,
      "outputs": [
        {
          "output_type": "execute_result",
          "data": {
            "text/plain": [
              "2"
            ]
          },
          "metadata": {},
          "execution_count": 17
        }
      ]
    },
    {
      "cell_type": "code",
      "source": [
        "5*5"
      ],
      "metadata": {
        "id": "1Kozc3i4wvJf",
        "outputId": "241ba102-9d2c-4df3-ce2b-e9423bdc0255",
        "colab": {
          "base_uri": "https://localhost:8080/"
        }
      },
      "id": "1Kozc3i4wvJf",
      "execution_count": 18,
      "outputs": [
        {
          "output_type": "execute_result",
          "data": {
            "text/plain": [
              "25"
            ]
          },
          "metadata": {},
          "execution_count": 18
        }
      ]
    },
    {
      "cell_type": "code",
      "source": [
        "5**3"
      ],
      "metadata": {
        "id": "Jdknh1ppxAbR",
        "outputId": "68f29caa-f400-46d6-c8e3-6e6d0ea536a0",
        "colab": {
          "base_uri": "https://localhost:8080/"
        }
      },
      "id": "Jdknh1ppxAbR",
      "execution_count": 19,
      "outputs": [
        {
          "output_type": "execute_result",
          "data": {
            "text/plain": [
              "125"
            ]
          },
          "metadata": {},
          "execution_count": 19
        }
      ]
    },
    {
      "cell_type": "code",
      "source": [
        "print"
      ],
      "metadata": {
        "id": "pw8S6xXWxCr-",
        "outputId": "a3fdf2b7-fdea-460d-df70-b8c6374c4335",
        "colab": {
          "base_uri": "https://localhost:8080/"
        }
      },
      "id": "pw8S6xXWxCr-",
      "execution_count": 20,
      "outputs": [
        {
          "output_type": "execute_result",
          "data": {
            "text/plain": [
              "<function print(*args, sep=' ', end='\\n', file=None, flush=False)>"
            ]
          },
          "metadata": {},
          "execution_count": 20
        }
      ]
    },
    {
      "cell_type": "markdown",
      "source": [
        "Variables"
      ],
      "metadata": {
        "id": "qwf3-ktA73dW"
      },
      "id": "qwf3-ktA73dW"
    },
    {
      "cell_type": "code",
      "source": [
        "y = 5"
      ],
      "metadata": {
        "id": "l2EeneDC7qa4"
      },
      "id": "l2EeneDC7qa4",
      "execution_count": 21,
      "outputs": []
    },
    {
      "cell_type": "code",
      "source": [
        "y"
      ],
      "metadata": {
        "id": "S-snuawO72gv",
        "outputId": "99330915-e43e-40f3-eb0a-754c8075559f",
        "colab": {
          "base_uri": "https://localhost:8080/"
        }
      },
      "id": "S-snuawO72gv",
      "execution_count": 22,
      "outputs": [
        {
          "output_type": "execute_result",
          "data": {
            "text/plain": [
              "5"
            ]
          },
          "metadata": {},
          "execution_count": 22
        }
      ]
    },
    {
      "cell_type": "code",
      "source": [
        "# a bool is a datatype too"
      ],
      "metadata": {
        "id": "2jr2EOcK7_wO"
      },
      "id": "2jr2EOcK7_wO",
      "execution_count": 23,
      "outputs": []
    },
    {
      "cell_type": "code",
      "source": [
        "True"
      ],
      "metadata": {
        "id": "wdOnuIyL8H0r",
        "outputId": "3367351c-f2f1-4df5-a5da-5fdc8e7d5fd3",
        "colab": {
          "base_uri": "https://localhost:8080/"
        }
      },
      "id": "wdOnuIyL8H0r",
      "execution_count": 24,
      "outputs": [
        {
          "output_type": "execute_result",
          "data": {
            "text/plain": [
              "True"
            ]
          },
          "metadata": {},
          "execution_count": 24
        }
      ]
    },
    {
      "cell_type": "code",
      "source": [
        "False"
      ],
      "metadata": {
        "id": "xQ1CdVyN8L8h",
        "outputId": "509c8ef2-45c8-47f8-d8c0-0983f906ff8a",
        "colab": {
          "base_uri": "https://localhost:8080/"
        }
      },
      "id": "xQ1CdVyN8L8h",
      "execution_count": 25,
      "outputs": [
        {
          "output_type": "execute_result",
          "data": {
            "text/plain": [
              "False"
            ]
          },
          "metadata": {},
          "execution_count": 25
        }
      ]
    },
    {
      "cell_type": "code",
      "source": [
        "type(True)"
      ],
      "metadata": {
        "id": "egNZ0wzr8NTy",
        "outputId": "3ca5ee32-3b47-4e38-e9d3-adffc8d5bfd9",
        "colab": {
          "base_uri": "https://localhost:8080/"
        }
      },
      "id": "egNZ0wzr8NTy",
      "execution_count": 26,
      "outputs": [
        {
          "output_type": "execute_result",
          "data": {
            "text/plain": [
              "bool"
            ]
          },
          "metadata": {},
          "execution_count": 26
        }
      ]
    },
    {
      "cell_type": "code",
      "source": [
        "4 < 3"
      ],
      "metadata": {
        "id": "mGzzOI5R8QEV",
        "outputId": "20efb2b2-4443-4048-ca7c-ca96ce5a8de7",
        "colab": {
          "base_uri": "https://localhost:8080/"
        }
      },
      "id": "mGzzOI5R8QEV",
      "execution_count": 27,
      "outputs": [
        {
          "output_type": "execute_result",
          "data": {
            "text/plain": [
              "False"
            ]
          },
          "metadata": {},
          "execution_count": 27
        }
      ]
    },
    {
      "cell_type": "code",
      "source": [
        "not True"
      ],
      "metadata": {
        "id": "6AIZqX0x8bMS",
        "outputId": "63bf183c-dcd9-4193-bc9a-b2c8134e469d",
        "colab": {
          "base_uri": "https://localhost:8080/"
        }
      },
      "id": "6AIZqX0x8bMS",
      "execution_count": 28,
      "outputs": [
        {
          "output_type": "execute_result",
          "data": {
            "text/plain": [
              "False"
            ]
          },
          "metadata": {},
          "execution_count": 28
        }
      ]
    },
    {
      "cell_type": "code",
      "source": [
        "not False"
      ],
      "metadata": {
        "id": "1PFz1SOr8fH5",
        "outputId": "d64ac125-dbfd-4e6e-97a0-12a2e3a42d48",
        "colab": {
          "base_uri": "https://localhost:8080/"
        }
      },
      "id": "1PFz1SOr8fH5",
      "execution_count": 29,
      "outputs": [
        {
          "output_type": "execute_result",
          "data": {
            "text/plain": [
              "True"
            ]
          },
          "metadata": {},
          "execution_count": 29
        }
      ]
    },
    {
      "cell_type": "code",
      "source": [
        "3 >= 3"
      ],
      "metadata": {
        "id": "rH3MbWNp8h32",
        "colab": {
          "base_uri": "https://localhost:8080/"
        },
        "outputId": "a7006367-0064-4288-81a4-205f403ffd45"
      },
      "id": "rH3MbWNp8h32",
      "execution_count": 30,
      "outputs": [
        {
          "output_type": "execute_result",
          "data": {
            "text/plain": [
              "True"
            ]
          },
          "metadata": {},
          "execution_count": 30
        }
      ]
    },
    {
      "cell_type": "code",
      "source": [
        "2 != 3"
      ],
      "metadata": {
        "colab": {
          "base_uri": "https://localhost:8080/"
        },
        "id": "LdDIKLGN5BoW",
        "outputId": "22214260-4b9a-4f12-8da3-bb21634410ea"
      },
      "id": "LdDIKLGN5BoW",
      "execution_count": 31,
      "outputs": [
        {
          "output_type": "execute_result",
          "data": {
            "text/plain": [
              "True"
            ]
          },
          "metadata": {},
          "execution_count": 31
        }
      ]
    },
    {
      "cell_type": "code",
      "source": [
        "# 3 = 2 # can't assign to a literal\n",
        "3 == 2 # asking, comparison operator\n"
      ],
      "metadata": {
        "colab": {
          "base_uri": "https://localhost:8080/"
        },
        "id": "VR1qSW9z5ZAn",
        "outputId": "821f5747-d6f7-4e6e-b1f4-ea84487451f3"
      },
      "id": "VR1qSW9z5ZAn",
      "execution_count": 32,
      "outputs": [
        {
          "output_type": "execute_result",
          "data": {
            "text/plain": [
              "False"
            ]
          },
          "metadata": {},
          "execution_count": 32
        }
      ]
    },
    {
      "cell_type": "code",
      "source": [
        "# if statements"
      ],
      "metadata": {
        "id": "ckmzN5Q35tN3"
      },
      "id": "ckmzN5Q35tN3",
      "execution_count": 33,
      "outputs": []
    },
    {
      "cell_type": "code",
      "source": [
        "if True:\n",
        "  print(1)"
      ],
      "metadata": {
        "colab": {
          "base_uri": "https://localhost:8080/"
        },
        "id": "bbHcp9vO6BjC",
        "outputId": "1de0bbbc-4e72-4275-d036-52ccf0406fa0"
      },
      "id": "bbHcp9vO6BjC",
      "execution_count": 34,
      "outputs": [
        {
          "output_type": "stream",
          "name": "stdout",
          "text": [
            "1\n"
          ]
        }
      ]
    },
    {
      "cell_type": "code",
      "source": [
        "if False: # basically if is on off switch\n",
        "  print(1)"
      ],
      "metadata": {
        "id": "kAjUmWf86G15"
      },
      "id": "kAjUmWf86G15",
      "execution_count": 35,
      "outputs": []
    },
    {
      "cell_type": "code",
      "source": [
        "if 7 > 3:\n",
        "  print(4)"
      ],
      "metadata": {
        "colab": {
          "base_uri": "https://localhost:8080/"
        },
        "id": "CCRRvK4z6L7t",
        "outputId": "1397bd2d-4d3b-4048-b1aa-a19e756eaf1e"
      },
      "id": "CCRRvK4z6L7t",
      "execution_count": 36,
      "outputs": [
        {
          "output_type": "stream",
          "name": "stdout",
          "text": [
            "4\n"
          ]
        }
      ]
    },
    {
      "cell_type": "code",
      "source": [
        "grocery_list = [\"banana\", \"orange\", \"blueberries\"]"
      ],
      "metadata": {
        "id": "rId18rTc5Zqc"
      },
      "id": "rId18rTc5Zqc",
      "execution_count": 37,
      "outputs": []
    },
    {
      "cell_type": "code",
      "source": [
        "grocery_list.append(\"fruit\")"
      ],
      "metadata": {
        "id": "tWEVy2dA58_-"
      },
      "id": "tWEVy2dA58_-",
      "execution_count": 38,
      "outputs": []
    },
    {
      "cell_type": "code",
      "source": [
        "grocery_list"
      ],
      "metadata": {
        "id": "aHp73hUa6E0V",
        "outputId": "9f9fe319-a633-414d-e3c4-47411fe25ef4",
        "colab": {
          "base_uri": "https://localhost:8080/"
        }
      },
      "id": "aHp73hUa6E0V",
      "execution_count": 39,
      "outputs": [
        {
          "output_type": "execute_result",
          "data": {
            "text/plain": [
              "['banana', 'orange', 'blueberries', 'fruit']"
            ]
          },
          "metadata": {},
          "execution_count": 39
        }
      ]
    },
    {
      "cell_type": "code",
      "source": [
        "type(grocery_list)"
      ],
      "metadata": {
        "id": "1DWc8kdB6Frx",
        "outputId": "cb8fddee-a8d6-46e2-d1f6-a93838d8035e",
        "colab": {
          "base_uri": "https://localhost:8080/"
        }
      },
      "id": "1DWc8kdB6Frx",
      "execution_count": 40,
      "outputs": [
        {
          "output_type": "execute_result",
          "data": {
            "text/plain": [
              "list"
            ]
          },
          "metadata": {},
          "execution_count": 40
        }
      ]
    },
    {
      "cell_type": "code",
      "source": [
        "# lists are crazy powerful"
      ],
      "metadata": {
        "id": "bg30TUBL6Iql"
      },
      "id": "bg30TUBL6Iql",
      "execution_count": 41,
      "outputs": []
    },
    {
      "cell_type": "code",
      "source": [
        "for item in grocery_list: # for each item in the grocery list print the item\n",
        "  print(item)"
      ],
      "metadata": {
        "id": "CUtvNZjv6M_H",
        "outputId": "243b5404-4d5d-487a-93fc-5d318364c805",
        "colab": {
          "base_uri": "https://localhost:8080/"
        }
      },
      "id": "CUtvNZjv6M_H",
      "execution_count": 42,
      "outputs": [
        {
          "output_type": "stream",
          "name": "stdout",
          "text": [
            "banana\n",
            "orange\n",
            "blueberries\n",
            "fruit\n"
          ]
        }
      ]
    },
    {
      "cell_type": "code",
      "source": [
        "grocery_list[0]"
      ],
      "metadata": {
        "id": "c-xfjnHp6TnY",
        "outputId": "34a6923f-52c7-451f-b582-beec55db9b8b",
        "colab": {
          "base_uri": "https://localhost:8080/",
          "height": 35
        }
      },
      "id": "c-xfjnHp6TnY",
      "execution_count": 43,
      "outputs": [
        {
          "output_type": "execute_result",
          "data": {
            "text/plain": [
              "'banana'"
            ],
            "application/vnd.google.colaboratory.intrinsic+json": {
              "type": "string"
            }
          },
          "metadata": {},
          "execution_count": 43
        }
      ]
    },
    {
      "cell_type": "code",
      "source": [
        "grocery_list[1] # indexing, number is index, 1 is like 1 away from the first"
      ],
      "metadata": {
        "id": "RP3CQ8SX6jK7",
        "outputId": "9261b6c7-0be9-4bd3-e049-68f15ed3caf1",
        "colab": {
          "base_uri": "https://localhost:8080/",
          "height": 35
        }
      },
      "id": "RP3CQ8SX6jK7",
      "execution_count": 44,
      "outputs": [
        {
          "output_type": "execute_result",
          "data": {
            "text/plain": [
              "'orange'"
            ],
            "application/vnd.google.colaboratory.intrinsic+json": {
              "type": "string"
            }
          },
          "metadata": {},
          "execution_count": 44
        }
      ]
    },
    {
      "cell_type": "code",
      "source": [
        "grocery_list[-1] # last one"
      ],
      "metadata": {
        "id": "wsUTyUwr6lum",
        "outputId": "b8094399-6967-4954-b14a-9357edd3e180",
        "colab": {
          "base_uri": "https://localhost:8080/",
          "height": 35
        }
      },
      "id": "wsUTyUwr6lum",
      "execution_count": 45,
      "outputs": [
        {
          "output_type": "execute_result",
          "data": {
            "text/plain": [
              "'fruit'"
            ],
            "application/vnd.google.colaboratory.intrinsic+json": {
              "type": "string"
            }
          },
          "metadata": {},
          "execution_count": 45
        }
      ]
    },
    {
      "cell_type": "code",
      "source": [
        "for i in [0,1,2,3]:\n",
        "  print(grocery_list[i])\n",
        ""
      ],
      "metadata": {
        "id": "RY0RMgXS67ds",
        "colab": {
          "base_uri": "https://localhost:8080/"
        },
        "outputId": "6598d909-d4ff-4ea0-ae17-75986b7b0add"
      },
      "id": "RY0RMgXS67ds",
      "execution_count": 46,
      "outputs": [
        {
          "output_type": "stream",
          "name": "stdout",
          "text": [
            "banana\n",
            "orange\n",
            "blueberries\n",
            "fruit\n"
          ]
        }
      ]
    },
    {
      "cell_type": "code",
      "source": [
        "for i in range(4):\n",
        "  print(grocery_list[i])"
      ],
      "metadata": {
        "colab": {
          "base_uri": "https://localhost:8080/"
        },
        "id": "M4nDjN7EtoQH",
        "outputId": "16f25b7b-f261-4699-d082-976baae74d7a"
      },
      "id": "M4nDjN7EtoQH",
      "execution_count": 47,
      "outputs": [
        {
          "output_type": "stream",
          "name": "stdout",
          "text": [
            "banana\n",
            "orange\n",
            "blueberries\n",
            "fruit\n"
          ]
        }
      ]
    },
    {
      "cell_type": "code",
      "source": [
        "range(5)"
      ],
      "metadata": {
        "colab": {
          "base_uri": "https://localhost:8080/"
        },
        "id": "gECPZq3Wtyo8",
        "outputId": "ca645e84-f062-4d92-cbd5-ae47a496db64"
      },
      "id": "gECPZq3Wtyo8",
      "execution_count": 48,
      "outputs": [
        {
          "output_type": "execute_result",
          "data": {
            "text/plain": [
              "range(0, 5)"
            ]
          },
          "metadata": {},
          "execution_count": 48
        }
      ]
    },
    {
      "cell_type": "code",
      "source": [
        "list(range(5))"
      ],
      "metadata": {
        "id": "O90ILqJft_rQ",
        "outputId": "8c102f4e-520f-433b-a8be-569a26bdfdd6",
        "colab": {
          "base_uri": "https://localhost:8080/"
        }
      },
      "id": "O90ILqJft_rQ",
      "execution_count": 49,
      "outputs": [
        {
          "output_type": "execute_result",
          "data": {
            "text/plain": [
              "[0, 1, 2, 3, 4]"
            ]
          },
          "metadata": {},
          "execution_count": 49
        }
      ]
    },
    {
      "cell_type": "code",
      "source": [
        "len(grocery_list)"
      ],
      "metadata": {
        "id": "66xUImK0uCBW",
        "outputId": "769ecbbb-c676-48a0-85a4-2e2a20acdf91",
        "colab": {
          "base_uri": "https://localhost:8080/"
        }
      },
      "id": "66xUImK0uCBW",
      "execution_count": 50,
      "outputs": [
        {
          "output_type": "execute_result",
          "data": {
            "text/plain": [
              "4"
            ]
          },
          "metadata": {},
          "execution_count": 50
        }
      ]
    },
    {
      "cell_type": "code",
      "source": [
        "for i in range(len(grocery_list)):\n",
        "  print(grocery_list[i])"
      ],
      "metadata": {
        "id": "M5RxGXpPuHlZ",
        "outputId": "ae49ff7c-1e97-40c7-b4d6-1b0603d9169b",
        "colab": {
          "base_uri": "https://localhost:8080/"
        }
      },
      "id": "M5RxGXpPuHlZ",
      "execution_count": 52,
      "outputs": [
        {
          "output_type": "stream",
          "name": "stdout",
          "text": [
            "banana\n",
            "orange\n",
            "blueberries\n",
            "fruit\n"
          ]
        }
      ]
    },
    {
      "cell_type": "code",
      "source": [
        "# using range comes in handy at times, sometimes both methods\n"
      ],
      "metadata": {
        "id": "IqatjaFKuTfE"
      },
      "id": "IqatjaFKuTfE",
      "execution_count": 53,
      "outputs": []
    },
    {
      "cell_type": "code",
      "source": [
        "for i, item in enumerate(grocery_list):\n",
        "  print(i, item)"
      ],
      "metadata": {
        "id": "3B5LmGBHueA7",
        "outputId": "e33d1570-7896-4d25-bf76-e0b2302c6b8e",
        "colab": {
          "base_uri": "https://localhost:8080/"
        }
      },
      "id": "3B5LmGBHueA7",
      "execution_count": 54,
      "outputs": [
        {
          "output_type": "stream",
          "name": "stdout",
          "text": [
            "0 banana\n",
            "1 orange\n",
            "2 blueberries\n",
            "3 fruit\n"
          ]
        }
      ]
    },
    {
      "cell_type": "code",
      "source": [
        "# index along with item"
      ],
      "metadata": {
        "id": "-TxBAp2wukfG"
      },
      "id": "-TxBAp2wukfG",
      "execution_count": 55,
      "outputs": []
    },
    {
      "cell_type": "code",
      "source": [
        "# y loop"
      ],
      "metadata": {
        "id": "oLO7g5P5umfO"
      },
      "id": "oLO7g5P5umfO",
      "execution_count": 56,
      "outputs": []
    },
    {
      "cell_type": "code",
      "source": [
        "i = 0 # first in list\n",
        "i += 1\n",
        "\n",
        "i"
      ],
      "metadata": {
        "id": "ilM_9mdKuoHt",
        "outputId": "53893c26-caa7-4ac9-a69d-0f8fbbfae52a",
        "colab": {
          "base_uri": "https://localhost:8080/"
        }
      },
      "id": "ilM_9mdKuoHt",
      "execution_count": 57,
      "outputs": [
        {
          "output_type": "execute_result",
          "data": {
            "text/plain": [
              "1"
            ]
          },
          "metadata": {},
          "execution_count": 57
        }
      ]
    },
    {
      "cell_type": "code",
      "source": [
        "i += 1\n",
        "\n",
        "i"
      ],
      "metadata": {
        "id": "JLxoy-INuwA2",
        "outputId": "5bb4ad9c-9acd-4271-8fca-f5eef5092ba7",
        "colab": {
          "base_uri": "https://localhost:8080/"
        }
      },
      "id": "JLxoy-INuwA2",
      "execution_count": 60,
      "outputs": [
        {
          "output_type": "execute_result",
          "data": {
            "text/plain": [
              "4"
            ]
          },
          "metadata": {},
          "execution_count": 60
        }
      ]
    },
    {
      "cell_type": "code",
      "source": [
        "# can also decrement"
      ],
      "metadata": {
        "id": "kFOJXBRxuxTt"
      },
      "id": "kFOJXBRxuxTt",
      "execution_count": 61,
      "outputs": []
    },
    {
      "cell_type": "code",
      "source": [],
      "metadata": {
        "id": "FEg5z9fLu4Wa"
      },
      "id": "FEg5z9fLu4Wa",
      "execution_count": null,
      "outputs": []
    }
  ],
  "metadata": {
    "kernelspec": {
      "display_name": "base",
      "language": "python",
      "name": "python3"
    },
    "language_info": {
      "codemirror_mode": {
        "name": "ipython",
        "version": 3
      },
      "file_extension": ".py",
      "mimetype": "text/x-python",
      "name": "python",
      "nbconvert_exporter": "python",
      "pygments_lexer": "ipython3",
      "version": "3.11.5"
    },
    "colab": {
      "provenance": []
    }
  },
  "nbformat": 4,
  "nbformat_minor": 5
}