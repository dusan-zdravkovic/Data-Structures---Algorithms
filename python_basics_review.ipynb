{
  "cells": [
    {
      "cell_type": "code",
      "execution_count": 1,
      "id": "89f5be7d",
      "metadata": {
        "id": "89f5be7d",
        "outputId": "2d0d9713-d13b-4fd1-db5a-33e43d05c609",
        "colab": {
          "base_uri": "https://localhost:8080/"
        }
      },
      "outputs": [
        {
          "output_type": "stream",
          "name": "stdout",
          "text": [
            "Hello World\n"
          ]
        }
      ],
      "source": [
        "print(\"Hello World\") # string of Hello World"
      ]
    },
    {
      "cell_type": "code",
      "execution_count": 2,
      "id": "218c5953",
      "metadata": {
        "colab": {
          "base_uri": "https://localhost:8080/"
        },
        "id": "218c5953",
        "outputId": "62a2834e-bd41-45ce-bb51-9341292c2e8a"
      },
      "outputs": [
        {
          "output_type": "execute_result",
          "data": {
            "text/plain": [
              "str"
            ]
          },
          "metadata": {},
          "execution_count": 2
        }
      ],
      "source": [
        "type('Hello World')"
      ]
    },
    {
      "cell_type": "code",
      "source": [
        "\"My name is Dusan, I am 24\""
      ],
      "metadata": {
        "id": "vPsUelR2uC_J",
        "outputId": "3925a3ba-ee74-414f-9b15-cfc55c8f72a9",
        "colab": {
          "base_uri": "https://localhost:8080/",
          "height": 35
        }
      },
      "id": "vPsUelR2uC_J",
      "execution_count": 3,
      "outputs": [
        {
          "output_type": "execute_result",
          "data": {
            "text/plain": [
              "'My name is Dusan, I am 24'"
            ],
            "application/vnd.google.colaboratory.intrinsic+json": {
              "type": "string"
            }
          },
          "metadata": {},
          "execution_count": 3
        }
      ]
    },
    {
      "cell_type": "code",
      "source": [
        "23 # number not string"
      ],
      "metadata": {
        "id": "-qzqsXVNuTr1",
        "outputId": "be21c7f5-32d0-42e2-cf04-67befb63d235",
        "colab": {
          "base_uri": "https://localhost:8080/"
        }
      },
      "id": "-qzqsXVNuTr1",
      "execution_count": 4,
      "outputs": [
        {
          "output_type": "execute_result",
          "data": {
            "text/plain": [
              "23"
            ]
          },
          "metadata": {},
          "execution_count": 4
        }
      ]
    },
    {
      "cell_type": "code",
      "source": [
        "\"23\" + \"4\""
      ],
      "metadata": {
        "id": "tPcDzOvxuZwq",
        "outputId": "5e8498ce-35fa-4ffc-8012-2c3f2d6771ab",
        "colab": {
          "base_uri": "https://localhost:8080/",
          "height": 35
        }
      },
      "id": "tPcDzOvxuZwq",
      "execution_count": 5,
      "outputs": [
        {
          "output_type": "execute_result",
          "data": {
            "text/plain": [
              "'234'"
            ],
            "application/vnd.google.colaboratory.intrinsic+json": {
              "type": "string"
            }
          },
          "metadata": {},
          "execution_count": 5
        }
      ]
    },
    {
      "cell_type": "code",
      "source": [
        "\"hello\" + \" world\""
      ],
      "metadata": {
        "id": "NfUCQlPSuiaj",
        "outputId": "8e0c5c83-5ae7-4438-ad36-c841208d3085",
        "colab": {
          "base_uri": "https://localhost:8080/",
          "height": 35
        }
      },
      "id": "NfUCQlPSuiaj",
      "execution_count": 6,
      "outputs": [
        {
          "output_type": "execute_result",
          "data": {
            "text/plain": [
              "'hello world'"
            ],
            "application/vnd.google.colaboratory.intrinsic+json": {
              "type": "string"
            }
          },
          "metadata": {},
          "execution_count": 6
        }
      ]
    },
    {
      "cell_type": "code",
      "source": [
        "# \"hello\" - \" world\" # python error, tells you cannot operate on str and str like that: TypeError"
      ],
      "metadata": {
        "id": "xnL_jXuauoKh"
      },
      "id": "xnL_jXuauoKh",
      "execution_count": 7,
      "outputs": []
    },
    {
      "cell_type": "code",
      "source": [
        "3 - 2"
      ],
      "metadata": {
        "id": "lSoVOHIku4O5",
        "outputId": "61fb7dc8-cbfe-4095-f553-e8058d641c1d",
        "colab": {
          "base_uri": "https://localhost:8080/"
        }
      },
      "id": "lSoVOHIku4O5",
      "execution_count": 8,
      "outputs": [
        {
          "output_type": "execute_result",
          "data": {
            "text/plain": [
              "1"
            ]
          },
          "metadata": {},
          "execution_count": 8
        }
      ]
    },
    {
      "cell_type": "code",
      "source": [
        "# SyntaxError, \"language error\"\n",
        "# \"hello\" + \"hi"
      ],
      "metadata": {
        "id": "mzD2ap2qvJHE"
      },
      "id": "mzD2ap2qvJHE",
      "execution_count": 9,
      "outputs": []
    },
    {
      "cell_type": "code",
      "source": [
        "type(3.2)"
      ],
      "metadata": {
        "id": "74FmbgY9vTmo",
        "outputId": "55e85c4b-92df-4c56-e7a1-acd5dd66cbb1",
        "colab": {
          "base_uri": "https://localhost:8080/"
        }
      },
      "id": "74FmbgY9vTmo",
      "execution_count": 10,
      "outputs": [
        {
          "output_type": "execute_result",
          "data": {
            "text/plain": [
              "float"
            ]
          },
          "metadata": {},
          "execution_count": 10
        }
      ]
    },
    {
      "cell_type": "code",
      "source": [
        "type(3)"
      ],
      "metadata": {
        "id": "t2g8wnW_vp_T",
        "outputId": "c402ae15-965d-44b1-df58-78833d0cbbb1",
        "colab": {
          "base_uri": "https://localhost:8080/"
        }
      },
      "id": "t2g8wnW_vp_T",
      "execution_count": 11,
      "outputs": [
        {
          "output_type": "execute_result",
          "data": {
            "text/plain": [
              "int"
            ]
          },
          "metadata": {},
          "execution_count": 11
        }
      ]
    },
    {
      "cell_type": "code",
      "source": [
        "4 / 3"
      ],
      "metadata": {
        "id": "1aP_1-w0v2Ez",
        "outputId": "d0380a88-9522-435f-f907-0b3379f0515d",
        "colab": {
          "base_uri": "https://localhost:8080/"
        }
      },
      "id": "1aP_1-w0v2Ez",
      "execution_count": 12,
      "outputs": [
        {
          "output_type": "execute_result",
          "data": {
            "text/plain": [
              "1.3333333333333333"
            ]
          },
          "metadata": {},
          "execution_count": 12
        }
      ]
    },
    {
      "cell_type": "code",
      "source": [
        "4 // 3"
      ],
      "metadata": {
        "id": "CNxqdN2KwHJ_",
        "outputId": "917d467e-8aa2-494a-a000-1961c9f2639b",
        "colab": {
          "base_uri": "https://localhost:8080/"
        }
      },
      "id": "CNxqdN2KwHJ_",
      "execution_count": 13,
      "outputs": [
        {
          "output_type": "execute_result",
          "data": {
            "text/plain": [
              "1"
            ]
          },
          "metadata": {},
          "execution_count": 13
        }
      ]
    },
    {
      "cell_type": "code",
      "source": [
        "4 % 3 # remainder"
      ],
      "metadata": {
        "id": "2EGN66T7wLpP",
        "outputId": "b3153615-4b16-49e1-d784-f2527ff3c590",
        "colab": {
          "base_uri": "https://localhost:8080/"
        }
      },
      "id": "2EGN66T7wLpP",
      "execution_count": 14,
      "outputs": [
        {
          "output_type": "execute_result",
          "data": {
            "text/plain": [
              "1"
            ]
          },
          "metadata": {},
          "execution_count": 14
        }
      ]
    },
    {
      "cell_type": "code",
      "source": [
        "5%3"
      ],
      "metadata": {
        "id": "qgT2N-bYwPdF",
        "outputId": "4099caaa-67c5-45c2-bd04-760d6bc779b8",
        "colab": {
          "base_uri": "https://localhost:8080/"
        }
      },
      "id": "qgT2N-bYwPdF",
      "execution_count": 15,
      "outputs": [
        {
          "output_type": "execute_result",
          "data": {
            "text/plain": [
              "2"
            ]
          },
          "metadata": {},
          "execution_count": 15
        }
      ]
    },
    {
      "cell_type": "code",
      "source": [
        "5 // 2 # without remainder \"floor\""
      ],
      "metadata": {
        "id": "zxpMeNqUwmU9",
        "outputId": "c6ba2ae7-6205-482e-a4cb-77630e64fa92",
        "colab": {
          "base_uri": "https://localhost:8080/"
        }
      },
      "id": "zxpMeNqUwmU9",
      "execution_count": 16,
      "outputs": [
        {
          "output_type": "execute_result",
          "data": {
            "text/plain": [
              "2"
            ]
          },
          "metadata": {},
          "execution_count": 16
        }
      ]
    },
    {
      "cell_type": "code",
      "source": [
        "5*5"
      ],
      "metadata": {
        "id": "1Kozc3i4wvJf",
        "outputId": "15bdeb03-9a2f-4418-ee46-fd3654c3f351",
        "colab": {
          "base_uri": "https://localhost:8080/"
        }
      },
      "id": "1Kozc3i4wvJf",
      "execution_count": 17,
      "outputs": [
        {
          "output_type": "execute_result",
          "data": {
            "text/plain": [
              "25"
            ]
          },
          "metadata": {},
          "execution_count": 17
        }
      ]
    },
    {
      "cell_type": "code",
      "source": [
        "5**3"
      ],
      "metadata": {
        "id": "Jdknh1ppxAbR",
        "outputId": "f5bc96aa-e336-41a1-9e72-c1cd24dc00c6",
        "colab": {
          "base_uri": "https://localhost:8080/"
        }
      },
      "id": "Jdknh1ppxAbR",
      "execution_count": 18,
      "outputs": [
        {
          "output_type": "execute_result",
          "data": {
            "text/plain": [
              "125"
            ]
          },
          "metadata": {},
          "execution_count": 18
        }
      ]
    },
    {
      "cell_type": "code",
      "source": [
        "print"
      ],
      "metadata": {
        "id": "pw8S6xXWxCr-",
        "outputId": "a3e4aed1-430e-434c-b1c9-2a54a26dafeb",
        "colab": {
          "base_uri": "https://localhost:8080/"
        }
      },
      "id": "pw8S6xXWxCr-",
      "execution_count": 19,
      "outputs": [
        {
          "output_type": "execute_result",
          "data": {
            "text/plain": [
              "<function print(*args, sep=' ', end='\\n', file=None, flush=False)>"
            ]
          },
          "metadata": {},
          "execution_count": 19
        }
      ]
    },
    {
      "cell_type": "markdown",
      "source": [
        "Variables"
      ],
      "metadata": {
        "id": "qwf3-ktA73dW"
      },
      "id": "qwf3-ktA73dW"
    },
    {
      "cell_type": "code",
      "source": [
        "y = 5"
      ],
      "metadata": {
        "id": "l2EeneDC7qa4"
      },
      "id": "l2EeneDC7qa4",
      "execution_count": 20,
      "outputs": []
    },
    {
      "cell_type": "code",
      "source": [
        "y"
      ],
      "metadata": {
        "id": "S-snuawO72gv",
        "outputId": "753fbc50-af17-4216-b050-0f25f9f987ba",
        "colab": {
          "base_uri": "https://localhost:8080/"
        }
      },
      "id": "S-snuawO72gv",
      "execution_count": 21,
      "outputs": [
        {
          "output_type": "execute_result",
          "data": {
            "text/plain": [
              "5"
            ]
          },
          "metadata": {},
          "execution_count": 21
        }
      ]
    },
    {
      "cell_type": "code",
      "source": [
        "# a bool is a datatype too"
      ],
      "metadata": {
        "id": "2jr2EOcK7_wO"
      },
      "id": "2jr2EOcK7_wO",
      "execution_count": 22,
      "outputs": []
    },
    {
      "cell_type": "code",
      "source": [
        "True"
      ],
      "metadata": {
        "id": "wdOnuIyL8H0r",
        "outputId": "fd4c823f-e372-46d1-a7cc-cb8a11cd7324",
        "colab": {
          "base_uri": "https://localhost:8080/"
        }
      },
      "id": "wdOnuIyL8H0r",
      "execution_count": 23,
      "outputs": [
        {
          "output_type": "execute_result",
          "data": {
            "text/plain": [
              "True"
            ]
          },
          "metadata": {},
          "execution_count": 23
        }
      ]
    },
    {
      "cell_type": "code",
      "source": [
        "False"
      ],
      "metadata": {
        "id": "xQ1CdVyN8L8h",
        "outputId": "e33e68f3-cbf2-4c83-d9f4-86d725ffa2ac",
        "colab": {
          "base_uri": "https://localhost:8080/"
        }
      },
      "id": "xQ1CdVyN8L8h",
      "execution_count": 24,
      "outputs": [
        {
          "output_type": "execute_result",
          "data": {
            "text/plain": [
              "False"
            ]
          },
          "metadata": {},
          "execution_count": 24
        }
      ]
    },
    {
      "cell_type": "code",
      "source": [
        "type(True)"
      ],
      "metadata": {
        "id": "egNZ0wzr8NTy",
        "outputId": "fe5095a0-b789-4d92-cc67-eb7d71316909",
        "colab": {
          "base_uri": "https://localhost:8080/"
        }
      },
      "id": "egNZ0wzr8NTy",
      "execution_count": 25,
      "outputs": [
        {
          "output_type": "execute_result",
          "data": {
            "text/plain": [
              "bool"
            ]
          },
          "metadata": {},
          "execution_count": 25
        }
      ]
    },
    {
      "cell_type": "code",
      "source": [
        "4 < 3"
      ],
      "metadata": {
        "id": "mGzzOI5R8QEV",
        "outputId": "07dff944-93f3-49c9-be6d-136dcf49f29f",
        "colab": {
          "base_uri": "https://localhost:8080/"
        }
      },
      "id": "mGzzOI5R8QEV",
      "execution_count": 26,
      "outputs": [
        {
          "output_type": "execute_result",
          "data": {
            "text/plain": [
              "False"
            ]
          },
          "metadata": {},
          "execution_count": 26
        }
      ]
    },
    {
      "cell_type": "code",
      "source": [
        "not True"
      ],
      "metadata": {
        "id": "6AIZqX0x8bMS",
        "outputId": "31d73b36-670b-4cb0-bf4c-9075dccc71c4",
        "colab": {
          "base_uri": "https://localhost:8080/"
        }
      },
      "id": "6AIZqX0x8bMS",
      "execution_count": 27,
      "outputs": [
        {
          "output_type": "execute_result",
          "data": {
            "text/plain": [
              "False"
            ]
          },
          "metadata": {},
          "execution_count": 27
        }
      ]
    },
    {
      "cell_type": "code",
      "source": [
        "not False"
      ],
      "metadata": {
        "id": "1PFz1SOr8fH5",
        "outputId": "290c7d3b-5bd1-452a-c19c-cd82c47d2a23",
        "colab": {
          "base_uri": "https://localhost:8080/"
        }
      },
      "id": "1PFz1SOr8fH5",
      "execution_count": 28,
      "outputs": [
        {
          "output_type": "execute_result",
          "data": {
            "text/plain": [
              "True"
            ]
          },
          "metadata": {},
          "execution_count": 28
        }
      ]
    },
    {
      "cell_type": "code",
      "source": [
        "3 >= 3"
      ],
      "metadata": {
        "id": "rH3MbWNp8h32",
        "colab": {
          "base_uri": "https://localhost:8080/"
        },
        "outputId": "410b3c58-0991-4e61-a825-c5eafe38cac4"
      },
      "id": "rH3MbWNp8h32",
      "execution_count": 29,
      "outputs": [
        {
          "output_type": "execute_result",
          "data": {
            "text/plain": [
              "True"
            ]
          },
          "metadata": {},
          "execution_count": 29
        }
      ]
    },
    {
      "cell_type": "code",
      "source": [
        "2 != 3"
      ],
      "metadata": {
        "colab": {
          "base_uri": "https://localhost:8080/"
        },
        "id": "LdDIKLGN5BoW",
        "outputId": "bf81590d-397c-4ea2-fc5b-93bab2f83e34"
      },
      "id": "LdDIKLGN5BoW",
      "execution_count": 30,
      "outputs": [
        {
          "output_type": "execute_result",
          "data": {
            "text/plain": [
              "True"
            ]
          },
          "metadata": {},
          "execution_count": 30
        }
      ]
    },
    {
      "cell_type": "code",
      "source": [
        "# 3 = 2 # can't assign to a literal\n",
        "3 == 2 # asking, comparison operator\n"
      ],
      "metadata": {
        "colab": {
          "base_uri": "https://localhost:8080/"
        },
        "id": "VR1qSW9z5ZAn",
        "outputId": "489d7cda-dba2-4338-96fd-4307d07fbaca"
      },
      "id": "VR1qSW9z5ZAn",
      "execution_count": 31,
      "outputs": [
        {
          "output_type": "execute_result",
          "data": {
            "text/plain": [
              "False"
            ]
          },
          "metadata": {},
          "execution_count": 31
        }
      ]
    },
    {
      "cell_type": "code",
      "source": [
        "# if statements"
      ],
      "metadata": {
        "id": "ckmzN5Q35tN3"
      },
      "id": "ckmzN5Q35tN3",
      "execution_count": 32,
      "outputs": []
    },
    {
      "cell_type": "code",
      "source": [
        "if True:\n",
        "  print(1)"
      ],
      "metadata": {
        "colab": {
          "base_uri": "https://localhost:8080/"
        },
        "id": "bbHcp9vO6BjC",
        "outputId": "83a2b5d0-1033-4f28-df94-8ad2c8260b5f"
      },
      "id": "bbHcp9vO6BjC",
      "execution_count": 33,
      "outputs": [
        {
          "output_type": "stream",
          "name": "stdout",
          "text": [
            "1\n"
          ]
        }
      ]
    },
    {
      "cell_type": "code",
      "source": [
        "if False: # basically if is on off switch\n",
        "  print(1)"
      ],
      "metadata": {
        "id": "kAjUmWf86G15"
      },
      "id": "kAjUmWf86G15",
      "execution_count": 34,
      "outputs": []
    },
    {
      "cell_type": "code",
      "source": [
        "if 7 > 3:\n",
        "  print(4)"
      ],
      "metadata": {
        "colab": {
          "base_uri": "https://localhost:8080/"
        },
        "id": "CCRRvK4z6L7t",
        "outputId": "e49624fe-bb17-4ef4-c077-0ab8b105ebd7"
      },
      "id": "CCRRvK4z6L7t",
      "execution_count": 35,
      "outputs": [
        {
          "output_type": "stream",
          "name": "stdout",
          "text": [
            "4\n"
          ]
        }
      ]
    },
    {
      "cell_type": "code",
      "source": [
        "grocery_list = [\"banana\", \"orange\", \"blueberries\"]"
      ],
      "metadata": {
        "id": "rId18rTc5Zqc"
      },
      "id": "rId18rTc5Zqc",
      "execution_count": 36,
      "outputs": []
    },
    {
      "cell_type": "code",
      "source": [
        "grocery_list.append(\"fruit\")"
      ],
      "metadata": {
        "id": "tWEVy2dA58_-"
      },
      "id": "tWEVy2dA58_-",
      "execution_count": 37,
      "outputs": []
    },
    {
      "cell_type": "code",
      "source": [
        "grocery_list"
      ],
      "metadata": {
        "id": "aHp73hUa6E0V",
        "outputId": "7ae2bf10-e878-4290-f159-1cf8c8042f73",
        "colab": {
          "base_uri": "https://localhost:8080/"
        }
      },
      "id": "aHp73hUa6E0V",
      "execution_count": 38,
      "outputs": [
        {
          "output_type": "execute_result",
          "data": {
            "text/plain": [
              "['banana', 'orange', 'blueberries', 'fruit']"
            ]
          },
          "metadata": {},
          "execution_count": 38
        }
      ]
    },
    {
      "cell_type": "code",
      "source": [
        "type(grocery_list)"
      ],
      "metadata": {
        "id": "1DWc8kdB6Frx",
        "outputId": "e251c2ae-e0d7-44a1-d46f-3f4c4dc53bd0",
        "colab": {
          "base_uri": "https://localhost:8080/"
        }
      },
      "id": "1DWc8kdB6Frx",
      "execution_count": 39,
      "outputs": [
        {
          "output_type": "execute_result",
          "data": {
            "text/plain": [
              "list"
            ]
          },
          "metadata": {},
          "execution_count": 39
        }
      ]
    },
    {
      "cell_type": "code",
      "source": [
        "# lists are crazy powerful"
      ],
      "metadata": {
        "id": "bg30TUBL6Iql"
      },
      "id": "bg30TUBL6Iql",
      "execution_count": 40,
      "outputs": []
    },
    {
      "cell_type": "code",
      "source": [
        "for item in grocery_list: # for each item in the grocery list print the item\n",
        "  print(item)"
      ],
      "metadata": {
        "id": "CUtvNZjv6M_H",
        "outputId": "a9545daa-0ee5-4aa1-e0d2-44b8728ea19a",
        "colab": {
          "base_uri": "https://localhost:8080/"
        }
      },
      "id": "CUtvNZjv6M_H",
      "execution_count": 41,
      "outputs": [
        {
          "output_type": "stream",
          "name": "stdout",
          "text": [
            "banana\n",
            "orange\n",
            "blueberries\n",
            "fruit\n"
          ]
        }
      ]
    },
    {
      "cell_type": "code",
      "source": [
        "grocery_list[0]"
      ],
      "metadata": {
        "id": "c-xfjnHp6TnY",
        "outputId": "31e23cad-41c5-4be8-8e59-324067210475",
        "colab": {
          "base_uri": "https://localhost:8080/",
          "height": 35
        }
      },
      "id": "c-xfjnHp6TnY",
      "execution_count": 42,
      "outputs": [
        {
          "output_type": "execute_result",
          "data": {
            "text/plain": [
              "'banana'"
            ],
            "application/vnd.google.colaboratory.intrinsic+json": {
              "type": "string"
            }
          },
          "metadata": {},
          "execution_count": 42
        }
      ]
    },
    {
      "cell_type": "code",
      "source": [
        "grocery_list[1] # indexing, number is index, 1 is like 1 away from the first"
      ],
      "metadata": {
        "id": "RP3CQ8SX6jK7",
        "outputId": "c98535a2-51b8-4c33-d71f-774c428bb771",
        "colab": {
          "base_uri": "https://localhost:8080/",
          "height": 35
        }
      },
      "id": "RP3CQ8SX6jK7",
      "execution_count": 43,
      "outputs": [
        {
          "output_type": "execute_result",
          "data": {
            "text/plain": [
              "'orange'"
            ],
            "application/vnd.google.colaboratory.intrinsic+json": {
              "type": "string"
            }
          },
          "metadata": {},
          "execution_count": 43
        }
      ]
    },
    {
      "cell_type": "code",
      "source": [
        "grocery_list[-1] # last one"
      ],
      "metadata": {
        "id": "wsUTyUwr6lum",
        "outputId": "7f1399fc-6076-43a8-e5f0-2db4a76e4fab",
        "colab": {
          "base_uri": "https://localhost:8080/",
          "height": 35
        }
      },
      "id": "wsUTyUwr6lum",
      "execution_count": 44,
      "outputs": [
        {
          "output_type": "execute_result",
          "data": {
            "text/plain": [
              "'fruit'"
            ],
            "application/vnd.google.colaboratory.intrinsic+json": {
              "type": "string"
            }
          },
          "metadata": {},
          "execution_count": 44
        }
      ]
    },
    {
      "cell_type": "code",
      "source": [
        "for i in [0,1,2,3]:\n",
        "  print(grocery_list[i])\n"
      ],
      "metadata": {
        "id": "RY0RMgXS67ds",
        "colab": {
          "base_uri": "https://localhost:8080/"
        },
        "outputId": "fdf65185-67c0-490d-88b0-9ebeb5e57dcb"
      },
      "id": "RY0RMgXS67ds",
      "execution_count": 45,
      "outputs": [
        {
          "output_type": "stream",
          "name": "stdout",
          "text": [
            "banana\n",
            "orange\n",
            "blueberries\n",
            "fruit\n"
          ]
        }
      ]
    },
    {
      "cell_type": "code",
      "source": [
        "for i in range(4):\n",
        "  print(grocery_list[i])"
      ],
      "metadata": {
        "colab": {
          "base_uri": "https://localhost:8080/"
        },
        "id": "M4nDjN7EtoQH",
        "outputId": "e15049bd-59b1-4542-b7da-61e8bdcfba84"
      },
      "id": "M4nDjN7EtoQH",
      "execution_count": 46,
      "outputs": [
        {
          "output_type": "stream",
          "name": "stdout",
          "text": [
            "banana\n",
            "orange\n",
            "blueberries\n",
            "fruit\n"
          ]
        }
      ]
    },
    {
      "cell_type": "code",
      "source": [
        "range(5)"
      ],
      "metadata": {
        "colab": {
          "base_uri": "https://localhost:8080/"
        },
        "id": "gECPZq3Wtyo8",
        "outputId": "b26d07ff-2640-4d2c-8d4c-64d80221df04"
      },
      "id": "gECPZq3Wtyo8",
      "execution_count": 47,
      "outputs": [
        {
          "output_type": "execute_result",
          "data": {
            "text/plain": [
              "range(0, 5)"
            ]
          },
          "metadata": {},
          "execution_count": 47
        }
      ]
    },
    {
      "cell_type": "code",
      "source": [
        "list(range(5))"
      ],
      "metadata": {
        "colab": {
          "base_uri": "https://localhost:8080/"
        },
        "id": "O90ILqJft_rQ",
        "outputId": "f0d5c7eb-f42d-4884-d904-a44903df98ef"
      },
      "id": "O90ILqJft_rQ",
      "execution_count": 48,
      "outputs": [
        {
          "output_type": "execute_result",
          "data": {
            "text/plain": [
              "[0, 1, 2, 3, 4]"
            ]
          },
          "metadata": {},
          "execution_count": 48
        }
      ]
    },
    {
      "cell_type": "code",
      "source": [
        "len(grocery_list)"
      ],
      "metadata": {
        "colab": {
          "base_uri": "https://localhost:8080/"
        },
        "id": "66xUImK0uCBW",
        "outputId": "66453f6e-e6f4-423c-e727-e6d9469edc80"
      },
      "id": "66xUImK0uCBW",
      "execution_count": 49,
      "outputs": [
        {
          "output_type": "execute_result",
          "data": {
            "text/plain": [
              "4"
            ]
          },
          "metadata": {},
          "execution_count": 49
        }
      ]
    },
    {
      "cell_type": "code",
      "source": [
        "for i in range(len(grocery_list)):\n",
        "  print(grocery_list[i])"
      ],
      "metadata": {
        "colab": {
          "base_uri": "https://localhost:8080/"
        },
        "id": "M5RxGXpPuHlZ",
        "outputId": "e269146b-5ef8-4ab4-d804-179bc72bdd0c"
      },
      "id": "M5RxGXpPuHlZ",
      "execution_count": 50,
      "outputs": [
        {
          "output_type": "stream",
          "name": "stdout",
          "text": [
            "banana\n",
            "orange\n",
            "blueberries\n",
            "fruit\n"
          ]
        }
      ]
    },
    {
      "cell_type": "code",
      "source": [
        "# using range comes in handy at times, sometimes both methods\n"
      ],
      "metadata": {
        "id": "IqatjaFKuTfE"
      },
      "id": "IqatjaFKuTfE",
      "execution_count": 51,
      "outputs": []
    },
    {
      "cell_type": "code",
      "source": [
        "for i, item in enumerate(grocery_list):\n",
        "  print(i, item)"
      ],
      "metadata": {
        "colab": {
          "base_uri": "https://localhost:8080/"
        },
        "id": "3B5LmGBHueA7",
        "outputId": "d253696a-2c9a-4111-d118-e476cfce17d4"
      },
      "id": "3B5LmGBHueA7",
      "execution_count": 52,
      "outputs": [
        {
          "output_type": "stream",
          "name": "stdout",
          "text": [
            "0 banana\n",
            "1 orange\n",
            "2 blueberries\n",
            "3 fruit\n"
          ]
        }
      ]
    },
    {
      "cell_type": "code",
      "source": [
        "# index along with item"
      ],
      "metadata": {
        "id": "-TxBAp2wukfG"
      },
      "id": "-TxBAp2wukfG",
      "execution_count": 53,
      "outputs": []
    },
    {
      "cell_type": "code",
      "source": [
        "# y loop"
      ],
      "metadata": {
        "id": "oLO7g5P5umfO"
      },
      "id": "oLO7g5P5umfO",
      "execution_count": 54,
      "outputs": []
    },
    {
      "cell_type": "code",
      "source": [
        "i = 0 # first in list\n",
        "i += 1\n",
        "\n",
        "i"
      ],
      "metadata": {
        "colab": {
          "base_uri": "https://localhost:8080/"
        },
        "id": "ilM_9mdKuoHt",
        "outputId": "e1cddf34-c1cf-49fe-ca4e-f287cc7a2f66"
      },
      "id": "ilM_9mdKuoHt",
      "execution_count": 55,
      "outputs": [
        {
          "output_type": "execute_result",
          "data": {
            "text/plain": [
              "1"
            ]
          },
          "metadata": {},
          "execution_count": 55
        }
      ]
    },
    {
      "cell_type": "code",
      "source": [
        "i += 1\n",
        "\n",
        "i"
      ],
      "metadata": {
        "colab": {
          "base_uri": "https://localhost:8080/"
        },
        "id": "JLxoy-INuwA2",
        "outputId": "612e2a0a-9f49-4452-a75d-ab86a945a1a8"
      },
      "id": "JLxoy-INuwA2",
      "execution_count": 56,
      "outputs": [
        {
          "output_type": "execute_result",
          "data": {
            "text/plain": [
              "2"
            ]
          },
          "metadata": {},
          "execution_count": 56
        }
      ]
    },
    {
      "cell_type": "code",
      "source": [
        "# can also decrement"
      ],
      "metadata": {
        "id": "kFOJXBRxuxTt"
      },
      "id": "kFOJXBRxuxTt",
      "execution_count": 57,
      "outputs": []
    },
    {
      "cell_type": "code",
      "source": [
        "grocery_list.append(4)"
      ],
      "metadata": {
        "id": "FEg5z9fLu4Wa"
      },
      "id": "FEg5z9fLu4Wa",
      "execution_count": 58,
      "outputs": []
    },
    {
      "cell_type": "code",
      "source": [
        "grocery_list"
      ],
      "metadata": {
        "id": "_zKURkS1vTBG",
        "outputId": "e21ecc3a-da90-491a-b0af-592d0514b8ba",
        "colab": {
          "base_uri": "https://localhost:8080/"
        }
      },
      "id": "_zKURkS1vTBG",
      "execution_count": 59,
      "outputs": [
        {
          "output_type": "execute_result",
          "data": {
            "text/plain": [
              "['banana', 'orange', 'blueberries', 'fruit', 4]"
            ]
          },
          "metadata": {},
          "execution_count": 59
        }
      ]
    },
    {
      "cell_type": "code",
      "source": [
        "j = len(grocery_list) - 1 # going down\n",
        "\n",
        "while j >= 0:\n",
        "  print(grocery_list[j])\n",
        "  j -= 1\n",
        "\n",
        "print('end')\n"
      ],
      "metadata": {
        "id": "1lcvFh3ZvT2W",
        "outputId": "a09011c3-e8cb-459a-af30-abdcb616526f",
        "colab": {
          "base_uri": "https://localhost:8080/"
        }
      },
      "id": "1lcvFh3ZvT2W",
      "execution_count": 60,
      "outputs": [
        {
          "output_type": "stream",
          "name": "stdout",
          "text": [
            "4\n",
            "fruit\n",
            "blueberries\n",
            "orange\n",
            "banana\n",
            "end\n"
          ]
        }
      ]
    },
    {
      "cell_type": "code",
      "source": [
        "i = 0\n",
        "\n",
        "while i < len(grocery_list): # if it was <= 5, then there would be none, it goes 0,1,2,3,4 no 5 index\n",
        "  print(grocery_list[i])\n",
        "  i += 1\n"
      ],
      "metadata": {
        "id": "UJRZIIVzvgJA",
        "outputId": "e1cbc2f6-cd16-4b83-c9d3-36712c94ecc6",
        "colab": {
          "base_uri": "https://localhost:8080/"
        }
      },
      "id": "UJRZIIVzvgJA",
      "execution_count": 61,
      "outputs": [
        {
          "output_type": "stream",
          "name": "stdout",
          "text": [
            "banana\n",
            "orange\n",
            "blueberries\n",
            "fruit\n",
            "4\n"
          ]
        }
      ]
    },
    {
      "cell_type": "code",
      "source": [
        "if False:\n",
        "  print(1)\n",
        "elif True: # change to False will print 3\n",
        "  print(2)\n",
        "else: # no matter what, if none of above is done\n",
        "  print(3)\n",
        "\n",
        "print('end')"
      ],
      "metadata": {
        "id": "5eKxhJjJwfte",
        "outputId": "dbe64d94-2bed-471b-96f9-4f32cc0c1751",
        "colab": {
          "base_uri": "https://localhost:8080/"
        }
      },
      "id": "5eKxhJjJwfte",
      "execution_count": 62,
      "outputs": [
        {
          "output_type": "stream",
          "name": "stdout",
          "text": [
            "2\n",
            "end\n"
          ]
        }
      ]
    },
    {
      "cell_type": "code",
      "source": [
        "True or False # or chooses the True"
      ],
      "metadata": {
        "id": "jVLAp3Trwl69",
        "outputId": "6cbaa5ee-4044-42a9-97c5-c360d9d46205",
        "colab": {
          "base_uri": "https://localhost:8080/"
        }
      },
      "id": "jVLAp3Trwl69",
      "execution_count": 63,
      "outputs": [
        {
          "output_type": "execute_result",
          "data": {
            "text/plain": [
              "True"
            ]
          },
          "metadata": {},
          "execution_count": 63
        }
      ]
    },
    {
      "cell_type": "code",
      "source": [
        "# and only happy if both are True\n",
        "True and False"
      ],
      "metadata": {
        "id": "2sa7OT2vxYVv",
        "outputId": "c70b2b1a-65d1-46b1-dc5c-d0018ce96737",
        "colab": {
          "base_uri": "https://localhost:8080/"
        }
      },
      "id": "2sa7OT2vxYVv",
      "execution_count": 64,
      "outputs": [
        {
          "output_type": "execute_result",
          "data": {
            "text/plain": [
              "False"
            ]
          },
          "metadata": {},
          "execution_count": 64
        }
      ]
    },
    {
      "cell_type": "code",
      "source": [
        "(3 > 4) and (4 > 5)"
      ],
      "metadata": {
        "id": "jnL6nC8YxjIY",
        "outputId": "874ede33-a64f-4b88-f5a0-9e65819d7ea6",
        "colab": {
          "base_uri": "https://localhost:8080/"
        }
      },
      "id": "jnL6nC8YxjIY",
      "execution_count": 65,
      "outputs": [
        {
          "output_type": "execute_result",
          "data": {
            "text/plain": [
              "False"
            ]
          },
          "metadata": {},
          "execution_count": 65
        }
      ]
    },
    {
      "cell_type": "code",
      "source": [
        "(3 > 4) or (5 > 4)"
      ],
      "metadata": {
        "id": "EAenvWzexrrI",
        "outputId": "db3e79cc-2505-44e8-8f63-fa1a3678d832",
        "colab": {
          "base_uri": "https://localhost:8080/"
        }
      },
      "id": "EAenvWzexrrI",
      "execution_count": 66,
      "outputs": [
        {
          "output_type": "execute_result",
          "data": {
            "text/plain": [
              "True"
            ]
          },
          "metadata": {},
          "execution_count": 66
        }
      ]
    },
    {
      "cell_type": "code",
      "source": [
        "age = 15\n",
        "\n",
        "if age <= 1: # pay attention to edge cases\n",
        "  print(\"Newborn\")\n",
        "elif age < 5:\n",
        "  print(\"Young\")\n",
        "elif age < 20:\n",
        "  print(\"Teen\")\n",
        "else:\n",
        "  print(\"Adult\")\n",
        "\n",
        "print(\"end\")"
      ],
      "metadata": {
        "id": "o-Ryo3U4xw9J",
        "outputId": "66411f52-d8b3-4bfd-ce6c-f14d7f453414",
        "colab": {
          "base_uri": "https://localhost:8080/"
        }
      },
      "id": "o-Ryo3U4xw9J",
      "execution_count": 67,
      "outputs": [
        {
          "output_type": "stream",
          "name": "stdout",
          "text": [
            "Teen\n",
            "end\n"
          ]
        }
      ]
    },
    {
      "cell_type": "code",
      "source": [
        "age = 2\n",
        "\n",
        "if age <= 1: # pay attention to edge cases\n",
        "  print(\"Newborn\")\n",
        "elif (age >= 13) and (age <= 19):\n",
        "  print(\"Teen\")\n",
        "else:\n",
        "  print(\"Not newborn and not teen\")\n",
        "\n",
        "print(\"end\")"
      ],
      "metadata": {
        "id": "7V9tMZ16yRxF",
        "outputId": "a8cba87a-f1fb-494a-be85-9f0e240fdd7c",
        "colab": {
          "base_uri": "https://localhost:8080/"
        }
      },
      "id": "7V9tMZ16yRxF",
      "execution_count": 68,
      "outputs": [
        {
          "output_type": "stream",
          "name": "stdout",
          "text": [
            "Not newborn and not teen\n",
            "end\n"
          ]
        }
      ]
    },
    {
      "cell_type": "code",
      "source": [
        "# Functions, crucial topic"
      ],
      "metadata": {
        "id": "gNuYSIXTy2r1"
      },
      "id": "gNuYSIXTy2r1",
      "execution_count": 69,
      "outputs": []
    },
    {
      "cell_type": "code",
      "source": [
        "def our_print(s):\n",
        "  \"\"\"our version of print\n",
        "  - whatever string you pass, it prints\"\"\"\n",
        "  print(s)\n",
        "\n",
        "our_print(\"Hello\")\n"
      ],
      "metadata": {
        "id": "_J6BMgSZy9sM",
        "outputId": "d8b1ca1f-17f9-4e77-afda-3182331c55a7",
        "colab": {
          "base_uri": "https://localhost:8080/"
        }
      },
      "id": "_J6BMgSZy9sM",
      "execution_count": 70,
      "outputs": [
        {
          "output_type": "stream",
          "name": "stdout",
          "text": [
            "Hello\n"
          ]
        }
      ]
    },
    {
      "cell_type": "code",
      "source": [
        "def our_print(s):\n",
        "  \"\"\"\n",
        "  our version of print\n",
        "  - whatever string you pass, it prints\n",
        "  - now adds hello also\n",
        "  \"\"\"\n",
        "  print(s)\n",
        "  print(s + \" Hello\")\n",
        "\n",
        "our_print(\"Hello\")"
      ],
      "metadata": {
        "id": "erxNuE8rzpHi",
        "outputId": "2bffccd8-92d2-4e40-d032-bc5a5db4f438",
        "colab": {
          "base_uri": "https://localhost:8080/"
        }
      },
      "id": "erxNuE8rzpHi",
      "execution_count": 71,
      "outputs": [
        {
          "output_type": "stream",
          "name": "stdout",
          "text": [
            "Hello\n",
            "Hello Hello\n"
          ]
        }
      ]
    },
    {
      "cell_type": "code",
      "source": [
        "# s, parameter only in scope of function, within function, outside function has no meaning\n"
      ],
      "metadata": {
        "id": "GijA7mMBz2M2"
      },
      "id": "GijA7mMBz2M2",
      "execution_count": 72,
      "outputs": []
    },
    {
      "cell_type": "code",
      "source": [
        "s = 87"
      ],
      "metadata": {
        "id": "nCYnwCqDz-aP"
      },
      "id": "nCYnwCqDz-aP",
      "execution_count": 73,
      "outputs": []
    },
    {
      "cell_type": "code",
      "source": [
        "our_print(\"Hello\")"
      ],
      "metadata": {
        "id": "v8RqWTxm0a2V",
        "outputId": "be12e640-67ca-41ec-c948-134388cd59d5",
        "colab": {
          "base_uri": "https://localhost:8080/"
        }
      },
      "id": "v8RqWTxm0a2V",
      "execution_count": 74,
      "outputs": [
        {
          "output_type": "stream",
          "name": "stdout",
          "text": [
            "Hello\n",
            "Hello Hello\n"
          ]
        }
      ]
    },
    {
      "cell_type": "code",
      "source": [
        "# outside s doesn't matter, the other s is local !"
      ],
      "metadata": {
        "id": "cF_pb1nt0inz"
      },
      "id": "cF_pb1nt0inz",
      "execution_count": 75,
      "outputs": []
    },
    {
      "cell_type": "code",
      "source": [
        "type(s)"
      ],
      "metadata": {
        "id": "mYhnMFqF0mnX",
        "colab": {
          "base_uri": "https://localhost:8080/"
        },
        "outputId": "dc52c6ca-134e-474f-bb81-e27f07c83a77"
      },
      "id": "mYhnMFqF0mnX",
      "execution_count": 76,
      "outputs": [
        {
          "output_type": "execute_result",
          "data": {
            "text/plain": [
              "int"
            ]
          },
          "metadata": {},
          "execution_count": 76
        }
      ]
    },
    {
      "cell_type": "code",
      "source": [
        "help(print)"
      ],
      "metadata": {
        "id": "_TE6Lm-nvDMV",
        "outputId": "51ddf5dd-0cfc-495e-f167-e989d7645fef",
        "colab": {
          "base_uri": "https://localhost:8080/"
        }
      },
      "id": "_TE6Lm-nvDMV",
      "execution_count": 78,
      "outputs": [
        {
          "output_type": "stream",
          "name": "stdout",
          "text": [
            "Help on built-in function print in module builtins:\n",
            "\n",
            "print(*args, sep=' ', end='\\n', file=None, flush=False)\n",
            "    Prints the values to a stream, or to sys.stdout by default.\n",
            "\n",
            "    sep\n",
            "      string inserted between values, default a space.\n",
            "    end\n",
            "      string appended after the last value, default a newline.\n",
            "    file\n",
            "      a file-like object (stream); defaults to the current sys.stdout.\n",
            "    flush\n",
            "      whether to forcibly flush the stream.\n",
            "\n"
          ]
        }
      ]
    },
    {
      "cell_type": "code",
      "source": [
        "print(\"hi\", \"3.3\")"
      ],
      "metadata": {
        "id": "pcDgSDE0vHG9",
        "outputId": "93c9bbec-4389-41b1-8e6f-412689d17c4f",
        "colab": {
          "base_uri": "https://localhost:8080/"
        }
      },
      "id": "pcDgSDE0vHG9",
      "execution_count": 79,
      "outputs": [
        {
          "output_type": "stream",
          "name": "stdout",
          "text": [
            "hi 3.3\n"
          ]
        }
      ]
    },
    {
      "cell_type": "code",
      "source": [
        "print(dir(list))"
      ],
      "metadata": {
        "id": "uq6386vuvh5s",
        "outputId": "d58d6be0-ff76-4d21-c52b-7ed345360178",
        "colab": {
          "base_uri": "https://localhost:8080/"
        }
      },
      "id": "uq6386vuvh5s",
      "execution_count": 80,
      "outputs": [
        {
          "output_type": "stream",
          "name": "stdout",
          "text": [
            "['__add__', '__class__', '__class_getitem__', '__contains__', '__delattr__', '__delitem__', '__dir__', '__doc__', '__eq__', '__format__', '__ge__', '__getattribute__', '__getitem__', '__getstate__', '__gt__', '__hash__', '__iadd__', '__imul__', '__init__', '__init_subclass__', '__iter__', '__le__', '__len__', '__lt__', '__mul__', '__ne__', '__new__', '__reduce__', '__reduce_ex__', '__repr__', '__reversed__', '__rmul__', '__setattr__', '__setitem__', '__sizeof__', '__str__', '__subclasshook__', 'append', 'clear', 'copy', 'count', 'extend', 'index', 'insert', 'pop', 'remove', 'reverse', 'sort']\n"
          ]
        }
      ]
    },
    {
      "cell_type": "code",
      "source": [
        "print(callable(print))  # True\n",
        "print(callable(10))     # False"
      ],
      "metadata": {
        "id": "o-gAe0WvvoM-",
        "outputId": "9c4012a3-2e0b-48ee-8ea2-f5357a8c7bd1",
        "colab": {
          "base_uri": "https://localhost:8080/"
        }
      },
      "id": "o-gAe0WvvoM-",
      "execution_count": 81,
      "outputs": [
        {
          "output_type": "stream",
          "name": "stdout",
          "text": [
            "True\n",
            "False\n"
          ]
        }
      ]
    },
    {
      "cell_type": "code",
      "source": [
        "print(print.__doc__)"
      ],
      "metadata": {
        "id": "ntkdPNuZvtRD",
        "outputId": "1ebfff88-bd35-4591-b517-aebaf6e0c66a",
        "colab": {
          "base_uri": "https://localhost:8080/"
        }
      },
      "id": "ntkdPNuZvtRD",
      "execution_count": 82,
      "outputs": [
        {
          "output_type": "stream",
          "name": "stdout",
          "text": [
            "Prints the values to a stream, or to sys.stdout by default.\n",
            "\n",
            "  sep\n",
            "    string inserted between values, default a space.\n",
            "  end\n",
            "    string appended after the last value, default a newline.\n",
            "  file\n",
            "    a file-like object (stream); defaults to the current sys.stdout.\n",
            "  flush\n",
            "    whether to forcibly flush the stream.\n"
          ]
        }
      ]
    },
    {
      "cell_type": "code",
      "source": [
        "class Dog:\n",
        "    def __init__(self, name, age):\n",
        "        self.name = name\n",
        "        self.age = age\n",
        "\n",
        "    def bark(self):\n",
        "        print(f\"{self.name} says woof!\")\n",
        "\n",
        "# create (instantiate) objects from that class\n",
        "dog1 = Dog(\"Buddy\", 3)\n",
        "dog2 = Dog(\"Max\", 2)\n",
        "\n",
        "dog1.bark()  # Buddy says woof!\n",
        "dog2.bark()  # Max says woof!"
      ],
      "metadata": {
        "id": "j-ShNiAdvwiD",
        "outputId": "536a1a77-063b-41c4-d4c2-414275c5394d",
        "colab": {
          "base_uri": "https://localhost:8080/"
        }
      },
      "id": "j-ShNiAdvwiD",
      "execution_count": 85,
      "outputs": [
        {
          "output_type": "stream",
          "name": "stdout",
          "text": [
            "Buddy says woof!\n",
            "Max says woof!\n"
          ]
        }
      ]
    },
    {
      "cell_type": "code",
      "source": [],
      "metadata": {
        "id": "suSop1VYwKt7"
      },
      "id": "suSop1VYwKt7",
      "execution_count": null,
      "outputs": []
    }
  ],
  "metadata": {
    "kernelspec": {
      "display_name": "base",
      "language": "python",
      "name": "python3"
    },
    "language_info": {
      "codemirror_mode": {
        "name": "ipython",
        "version": 3
      },
      "file_extension": ".py",
      "mimetype": "text/x-python",
      "name": "python",
      "nbconvert_exporter": "python",
      "pygments_lexer": "ipython3",
      "version": "3.11.5"
    },
    "colab": {
      "provenance": []
    }
  },
  "nbformat": 4,
  "nbformat_minor": 5
}