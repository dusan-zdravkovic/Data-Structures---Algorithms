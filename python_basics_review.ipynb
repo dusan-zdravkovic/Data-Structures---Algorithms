{
  "cells": [
    {
      "cell_type": "code",
      "execution_count": 2,
      "id": "89f5be7d",
      "metadata": {
        "id": "89f5be7d",
        "outputId": "74b05271-a18d-4354-e702-026021186e20",
        "colab": {
          "base_uri": "https://localhost:8080/"
        }
      },
      "outputs": [
        {
          "output_type": "stream",
          "name": "stdout",
          "text": [
            "Hello World\n"
          ]
        }
      ],
      "source": [
        "print(\"Hello World\") # string of Hello World"
      ]
    },
    {
      "cell_type": "code",
      "execution_count": 3,
      "id": "218c5953",
      "metadata": {
        "colab": {
          "base_uri": "https://localhost:8080/"
        },
        "id": "218c5953",
        "outputId": "2674dfff-0700-4711-9199-4f5ec2091815"
      },
      "outputs": [
        {
          "output_type": "execute_result",
          "data": {
            "text/plain": [
              "str"
            ]
          },
          "metadata": {},
          "execution_count": 3
        }
      ],
      "source": [
        "type('Hello World')"
      ]
    },
    {
      "cell_type": "code",
      "source": [
        "\"My name is Dusan, I am 24\""
      ],
      "metadata": {
        "id": "vPsUelR2uC_J",
        "outputId": "a981e15c-441c-4176-ff6b-2f787e1805ec",
        "colab": {
          "base_uri": "https://localhost:8080/",
          "height": 35
        }
      },
      "id": "vPsUelR2uC_J",
      "execution_count": 4,
      "outputs": [
        {
          "output_type": "execute_result",
          "data": {
            "text/plain": [
              "'My name is Dusan, I am 24'"
            ],
            "application/vnd.google.colaboratory.intrinsic+json": {
              "type": "string"
            }
          },
          "metadata": {},
          "execution_count": 4
        }
      ]
    },
    {
      "cell_type": "code",
      "source": [
        "23 # number not string"
      ],
      "metadata": {
        "id": "-qzqsXVNuTr1",
        "outputId": "4d17d3e0-a2e4-4377-b885-477fe2a8c13b",
        "colab": {
          "base_uri": "https://localhost:8080/"
        }
      },
      "id": "-qzqsXVNuTr1",
      "execution_count": 5,
      "outputs": [
        {
          "output_type": "execute_result",
          "data": {
            "text/plain": [
              "23"
            ]
          },
          "metadata": {},
          "execution_count": 5
        }
      ]
    },
    {
      "cell_type": "code",
      "source": [
        "\"23\" + \"4\""
      ],
      "metadata": {
        "id": "tPcDzOvxuZwq",
        "outputId": "06e94de5-4536-48c0-b476-b9d12476d2ed",
        "colab": {
          "base_uri": "https://localhost:8080/",
          "height": 35
        }
      },
      "id": "tPcDzOvxuZwq",
      "execution_count": 6,
      "outputs": [
        {
          "output_type": "execute_result",
          "data": {
            "text/plain": [
              "'234'"
            ],
            "application/vnd.google.colaboratory.intrinsic+json": {
              "type": "string"
            }
          },
          "metadata": {},
          "execution_count": 6
        }
      ]
    },
    {
      "cell_type": "code",
      "source": [
        "\"hello\" + \" world\""
      ],
      "metadata": {
        "id": "NfUCQlPSuiaj",
        "outputId": "d2990045-ebfa-4aaf-fe78-a3df9b1bb407",
        "colab": {
          "base_uri": "https://localhost:8080/",
          "height": 35
        }
      },
      "id": "NfUCQlPSuiaj",
      "execution_count": 7,
      "outputs": [
        {
          "output_type": "execute_result",
          "data": {
            "text/plain": [
              "'hello world'"
            ],
            "application/vnd.google.colaboratory.intrinsic+json": {
              "type": "string"
            }
          },
          "metadata": {},
          "execution_count": 7
        }
      ]
    },
    {
      "cell_type": "code",
      "source": [
        "# \"hello\" - \" world\" # python error, tells you cannot operate on str and str like that: TypeError"
      ],
      "metadata": {
        "id": "xnL_jXuauoKh"
      },
      "id": "xnL_jXuauoKh",
      "execution_count": 33,
      "outputs": []
    },
    {
      "cell_type": "code",
      "source": [
        "3 - 2"
      ],
      "metadata": {
        "id": "lSoVOHIku4O5",
        "outputId": "15fcf62a-2370-4e9d-f1a3-22940e4a2417",
        "colab": {
          "base_uri": "https://localhost:8080/"
        }
      },
      "id": "lSoVOHIku4O5",
      "execution_count": 9,
      "outputs": [
        {
          "output_type": "execute_result",
          "data": {
            "text/plain": [
              "1"
            ]
          },
          "metadata": {},
          "execution_count": 9
        }
      ]
    },
    {
      "cell_type": "code",
      "source": [
        "# SyntaxError, \"language error\"\n",
        "# \"hello\" + \"hi"
      ],
      "metadata": {
        "id": "mzD2ap2qvJHE"
      },
      "id": "mzD2ap2qvJHE",
      "execution_count": 32,
      "outputs": []
    },
    {
      "cell_type": "code",
      "source": [
        "type(3.2)"
      ],
      "metadata": {
        "id": "74FmbgY9vTmo",
        "outputId": "ecd3142d-05b8-4c15-dd0f-57842e4e2cc8",
        "colab": {
          "base_uri": "https://localhost:8080/"
        }
      },
      "id": "74FmbgY9vTmo",
      "execution_count": 11,
      "outputs": [
        {
          "output_type": "execute_result",
          "data": {
            "text/plain": [
              "float"
            ]
          },
          "metadata": {},
          "execution_count": 11
        }
      ]
    },
    {
      "cell_type": "code",
      "source": [
        "type(3)"
      ],
      "metadata": {
        "id": "t2g8wnW_vp_T",
        "outputId": "3543035f-2217-4666-b3fb-bd400f037f93",
        "colab": {
          "base_uri": "https://localhost:8080/"
        }
      },
      "id": "t2g8wnW_vp_T",
      "execution_count": 12,
      "outputs": [
        {
          "output_type": "execute_result",
          "data": {
            "text/plain": [
              "int"
            ]
          },
          "metadata": {},
          "execution_count": 12
        }
      ]
    },
    {
      "cell_type": "code",
      "source": [
        "4 / 3"
      ],
      "metadata": {
        "id": "1aP_1-w0v2Ez",
        "outputId": "3fe4c8b9-4404-4f61-b42f-c136dae6b0e7",
        "colab": {
          "base_uri": "https://localhost:8080/"
        }
      },
      "id": "1aP_1-w0v2Ez",
      "execution_count": 13,
      "outputs": [
        {
          "output_type": "execute_result",
          "data": {
            "text/plain": [
              "1.3333333333333333"
            ]
          },
          "metadata": {},
          "execution_count": 13
        }
      ]
    },
    {
      "cell_type": "code",
      "source": [
        "4 // 3"
      ],
      "metadata": {
        "id": "CNxqdN2KwHJ_",
        "outputId": "a1001673-1b93-4788-cb94-a6bc3fdef0ea",
        "colab": {
          "base_uri": "https://localhost:8080/"
        }
      },
      "id": "CNxqdN2KwHJ_",
      "execution_count": 14,
      "outputs": [
        {
          "output_type": "execute_result",
          "data": {
            "text/plain": [
              "1"
            ]
          },
          "metadata": {},
          "execution_count": 14
        }
      ]
    },
    {
      "cell_type": "code",
      "source": [
        "4 % 3 # remainder"
      ],
      "metadata": {
        "id": "2EGN66T7wLpP",
        "outputId": "75f1e574-e07e-426b-9b07-9e0c53400b48",
        "colab": {
          "base_uri": "https://localhost:8080/"
        }
      },
      "id": "2EGN66T7wLpP",
      "execution_count": 15,
      "outputs": [
        {
          "output_type": "execute_result",
          "data": {
            "text/plain": [
              "1"
            ]
          },
          "metadata": {},
          "execution_count": 15
        }
      ]
    },
    {
      "cell_type": "code",
      "source": [
        "5%3"
      ],
      "metadata": {
        "id": "qgT2N-bYwPdF",
        "outputId": "199976a0-def5-40fe-a407-aa34a02c1a3a",
        "colab": {
          "base_uri": "https://localhost:8080/"
        }
      },
      "id": "qgT2N-bYwPdF",
      "execution_count": 16,
      "outputs": [
        {
          "output_type": "execute_result",
          "data": {
            "text/plain": [
              "2"
            ]
          },
          "metadata": {},
          "execution_count": 16
        }
      ]
    },
    {
      "cell_type": "code",
      "source": [
        "5 // 2 # without remainder \"floor\""
      ],
      "metadata": {
        "id": "zxpMeNqUwmU9",
        "outputId": "84c1fbef-0f5c-4178-da31-f47f72aab353",
        "colab": {
          "base_uri": "https://localhost:8080/"
        }
      },
      "id": "zxpMeNqUwmU9",
      "execution_count": 17,
      "outputs": [
        {
          "output_type": "execute_result",
          "data": {
            "text/plain": [
              "2"
            ]
          },
          "metadata": {},
          "execution_count": 17
        }
      ]
    },
    {
      "cell_type": "code",
      "source": [
        "5*5"
      ],
      "metadata": {
        "id": "1Kozc3i4wvJf",
        "outputId": "8ae36091-1ab1-42ca-f087-70d9589d5ec5",
        "colab": {
          "base_uri": "https://localhost:8080/"
        }
      },
      "id": "1Kozc3i4wvJf",
      "execution_count": 18,
      "outputs": [
        {
          "output_type": "execute_result",
          "data": {
            "text/plain": [
              "25"
            ]
          },
          "metadata": {},
          "execution_count": 18
        }
      ]
    },
    {
      "cell_type": "code",
      "source": [
        "5**3"
      ],
      "metadata": {
        "id": "Jdknh1ppxAbR",
        "outputId": "85f059a9-92d9-499d-b007-91cdea09e6c2",
        "colab": {
          "base_uri": "https://localhost:8080/"
        }
      },
      "id": "Jdknh1ppxAbR",
      "execution_count": 19,
      "outputs": [
        {
          "output_type": "execute_result",
          "data": {
            "text/plain": [
              "125"
            ]
          },
          "metadata": {},
          "execution_count": 19
        }
      ]
    },
    {
      "cell_type": "code",
      "source": [
        "print"
      ],
      "metadata": {
        "id": "pw8S6xXWxCr-",
        "outputId": "10383a60-6453-4c35-c6a1-4e580e91b671",
        "colab": {
          "base_uri": "https://localhost:8080/"
        }
      },
      "id": "pw8S6xXWxCr-",
      "execution_count": 20,
      "outputs": [
        {
          "output_type": "execute_result",
          "data": {
            "text/plain": [
              "<function print(*args, sep=' ', end='\\n', file=None, flush=False)>"
            ]
          },
          "metadata": {},
          "execution_count": 20
        }
      ]
    },
    {
      "cell_type": "markdown",
      "source": [
        "Variables"
      ],
      "metadata": {
        "id": "qwf3-ktA73dW"
      },
      "id": "qwf3-ktA73dW"
    },
    {
      "cell_type": "code",
      "source": [
        "y = 5"
      ],
      "metadata": {
        "id": "l2EeneDC7qa4"
      },
      "id": "l2EeneDC7qa4",
      "execution_count": 21,
      "outputs": []
    },
    {
      "cell_type": "code",
      "source": [
        "y"
      ],
      "metadata": {
        "id": "S-snuawO72gv",
        "outputId": "e139a97d-ed36-41c7-fa16-ef205a188c28",
        "colab": {
          "base_uri": "https://localhost:8080/"
        }
      },
      "id": "S-snuawO72gv",
      "execution_count": 22,
      "outputs": [
        {
          "output_type": "execute_result",
          "data": {
            "text/plain": [
              "5"
            ]
          },
          "metadata": {},
          "execution_count": 22
        }
      ]
    },
    {
      "cell_type": "code",
      "source": [
        "# a bool is a datatype too"
      ],
      "metadata": {
        "id": "2jr2EOcK7_wO"
      },
      "id": "2jr2EOcK7_wO",
      "execution_count": 24,
      "outputs": []
    },
    {
      "cell_type": "code",
      "source": [
        "True"
      ],
      "metadata": {
        "id": "wdOnuIyL8H0r",
        "outputId": "183e1461-5958-4544-8fcb-c1ce56d14540",
        "colab": {
          "base_uri": "https://localhost:8080/"
        }
      },
      "id": "wdOnuIyL8H0r",
      "execution_count": 25,
      "outputs": [
        {
          "output_type": "execute_result",
          "data": {
            "text/plain": [
              "True"
            ]
          },
          "metadata": {},
          "execution_count": 25
        }
      ]
    },
    {
      "cell_type": "code",
      "source": [
        "False"
      ],
      "metadata": {
        "id": "xQ1CdVyN8L8h",
        "outputId": "13d8c764-c9a1-4aa4-f805-7ccad0de22c5",
        "colab": {
          "base_uri": "https://localhost:8080/"
        }
      },
      "id": "xQ1CdVyN8L8h",
      "execution_count": 26,
      "outputs": [
        {
          "output_type": "execute_result",
          "data": {
            "text/plain": [
              "False"
            ]
          },
          "metadata": {},
          "execution_count": 26
        }
      ]
    },
    {
      "cell_type": "code",
      "source": [
        "type(True)"
      ],
      "metadata": {
        "id": "egNZ0wzr8NTy",
        "outputId": "8ce157cb-4f36-4538-a6f6-61207a33fd77",
        "colab": {
          "base_uri": "https://localhost:8080/"
        }
      },
      "id": "egNZ0wzr8NTy",
      "execution_count": 27,
      "outputs": [
        {
          "output_type": "execute_result",
          "data": {
            "text/plain": [
              "bool"
            ]
          },
          "metadata": {},
          "execution_count": 27
        }
      ]
    },
    {
      "cell_type": "code",
      "source": [
        "4 < 3"
      ],
      "metadata": {
        "id": "mGzzOI5R8QEV",
        "outputId": "0bd806fd-6d57-4c2a-d5ae-76853639d3fe",
        "colab": {
          "base_uri": "https://localhost:8080/"
        }
      },
      "id": "mGzzOI5R8QEV",
      "execution_count": 28,
      "outputs": [
        {
          "output_type": "execute_result",
          "data": {
            "text/plain": [
              "False"
            ]
          },
          "metadata": {},
          "execution_count": 28
        }
      ]
    },
    {
      "cell_type": "code",
      "source": [
        "not True"
      ],
      "metadata": {
        "id": "6AIZqX0x8bMS",
        "outputId": "30dac3ca-a616-43fa-d978-9005f767049d",
        "colab": {
          "base_uri": "https://localhost:8080/"
        }
      },
      "id": "6AIZqX0x8bMS",
      "execution_count": 29,
      "outputs": [
        {
          "output_type": "execute_result",
          "data": {
            "text/plain": [
              "False"
            ]
          },
          "metadata": {},
          "execution_count": 29
        }
      ]
    },
    {
      "cell_type": "code",
      "source": [
        "not False"
      ],
      "metadata": {
        "id": "1PFz1SOr8fH5",
        "outputId": "04a2920d-e70d-4193-c486-87d7276d7459",
        "colab": {
          "base_uri": "https://localhost:8080/"
        }
      },
      "id": "1PFz1SOr8fH5",
      "execution_count": 30,
      "outputs": [
        {
          "output_type": "execute_result",
          "data": {
            "text/plain": [
              "True"
            ]
          },
          "metadata": {},
          "execution_count": 30
        }
      ]
    },
    {
      "cell_type": "code",
      "source": [
        "3 >= 3"
      ],
      "metadata": {
        "id": "rH3MbWNp8h32",
        "colab": {
          "base_uri": "https://localhost:8080/"
        },
        "outputId": "6bcb338b-082d-41f4-a95f-2923a5ff8a94"
      },
      "id": "rH3MbWNp8h32",
      "execution_count": 31,
      "outputs": [
        {
          "output_type": "execute_result",
          "data": {
            "text/plain": [
              "True"
            ]
          },
          "metadata": {},
          "execution_count": 31
        }
      ]
    },
    {
      "cell_type": "code",
      "source": [
        "2 != 3"
      ],
      "metadata": {
        "colab": {
          "base_uri": "https://localhost:8080/"
        },
        "id": "LdDIKLGN5BoW",
        "outputId": "a8aab81c-7bfb-4c8f-8714-1c6e5eede577"
      },
      "id": "LdDIKLGN5BoW",
      "execution_count": 34,
      "outputs": [
        {
          "output_type": "execute_result",
          "data": {
            "text/plain": [
              "True"
            ]
          },
          "metadata": {},
          "execution_count": 34
        }
      ]
    },
    {
      "cell_type": "code",
      "source": [
        "# 3 = 2 # can't assign to a literal\n",
        "3 == 2 # asking, comparison operator\n"
      ],
      "metadata": {
        "colab": {
          "base_uri": "https://localhost:8080/"
        },
        "id": "VR1qSW9z5ZAn",
        "outputId": "35e8b91d-e6e9-421f-bf6c-d2f52430c7d0"
      },
      "id": "VR1qSW9z5ZAn",
      "execution_count": 35,
      "outputs": [
        {
          "output_type": "execute_result",
          "data": {
            "text/plain": [
              "False"
            ]
          },
          "metadata": {},
          "execution_count": 35
        }
      ]
    },
    {
      "cell_type": "code",
      "source": [
        "# if statements"
      ],
      "metadata": {
        "id": "ckmzN5Q35tN3"
      },
      "id": "ckmzN5Q35tN3",
      "execution_count": 36,
      "outputs": []
    },
    {
      "cell_type": "code",
      "source": [
        "if True:\n",
        "  print(1)"
      ],
      "metadata": {
        "colab": {
          "base_uri": "https://localhost:8080/"
        },
        "id": "bbHcp9vO6BjC",
        "outputId": "0bc97d89-ebff-4d96-8468-e1e1f2c42a68"
      },
      "id": "bbHcp9vO6BjC",
      "execution_count": 37,
      "outputs": [
        {
          "output_type": "stream",
          "name": "stdout",
          "text": [
            "1\n"
          ]
        }
      ]
    },
    {
      "cell_type": "code",
      "source": [
        "if False: # basically if is on off switch\n",
        "  print(1)"
      ],
      "metadata": {
        "id": "kAjUmWf86G15"
      },
      "id": "kAjUmWf86G15",
      "execution_count": 38,
      "outputs": []
    },
    {
      "cell_type": "code",
      "source": [
        "if 7 > 3:\n",
        "  print(4)"
      ],
      "metadata": {
        "colab": {
          "base_uri": "https://localhost:8080/"
        },
        "id": "CCRRvK4z6L7t",
        "outputId": "6bd02639-dffd-47bc-9e67-11cae4f26b53"
      },
      "id": "CCRRvK4z6L7t",
      "execution_count": 1,
      "outputs": [
        {
          "output_type": "stream",
          "name": "stdout",
          "text": [
            "4\n"
          ]
        }
      ]
    },
    {
      "cell_type": "code",
      "source": [
        "grocery_list = [\"banana\", \"orange\", \"blueberries\"]"
      ],
      "metadata": {
        "id": "rId18rTc5Zqc"
      },
      "id": "rId18rTc5Zqc",
      "execution_count": 3,
      "outputs": []
    },
    {
      "cell_type": "code",
      "source": [
        "grocery_list.append(\"fruit\")"
      ],
      "metadata": {
        "id": "tWEVy2dA58_-"
      },
      "id": "tWEVy2dA58_-",
      "execution_count": 4,
      "outputs": []
    },
    {
      "cell_type": "code",
      "source": [
        "grocery_list"
      ],
      "metadata": {
        "id": "aHp73hUa6E0V",
        "outputId": "c586fe4b-8443-4247-dd53-2e506fc6fc9d",
        "colab": {
          "base_uri": "https://localhost:8080/"
        }
      },
      "id": "aHp73hUa6E0V",
      "execution_count": 5,
      "outputs": [
        {
          "output_type": "execute_result",
          "data": {
            "text/plain": [
              "['banana', 'orange', 'blueberries', 'fruit']"
            ]
          },
          "metadata": {},
          "execution_count": 5
        }
      ]
    },
    {
      "cell_type": "code",
      "source": [
        "type(grocery_list)"
      ],
      "metadata": {
        "id": "1DWc8kdB6Frx",
        "outputId": "dca000e4-234a-45b4-9e37-b81a8864b58b",
        "colab": {
          "base_uri": "https://localhost:8080/"
        }
      },
      "id": "1DWc8kdB6Frx",
      "execution_count": 6,
      "outputs": [
        {
          "output_type": "execute_result",
          "data": {
            "text/plain": [
              "list"
            ]
          },
          "metadata": {},
          "execution_count": 6
        }
      ]
    },
    {
      "cell_type": "code",
      "source": [
        "# lists are crazy powerful"
      ],
      "metadata": {
        "id": "bg30TUBL6Iql"
      },
      "id": "bg30TUBL6Iql",
      "execution_count": 7,
      "outputs": []
    },
    {
      "cell_type": "code",
      "source": [
        "for item in grocery_list: # for each item in the grocery list print the item\n",
        "  print(item)"
      ],
      "metadata": {
        "id": "CUtvNZjv6M_H",
        "outputId": "9b63f8e6-2b1e-4cbd-eaa1-88f2ebc5ac24",
        "colab": {
          "base_uri": "https://localhost:8080/"
        }
      },
      "id": "CUtvNZjv6M_H",
      "execution_count": 10,
      "outputs": [
        {
          "output_type": "stream",
          "name": "stdout",
          "text": [
            "banana\n",
            "orange\n",
            "blueberries\n",
            "fruit\n"
          ]
        }
      ]
    },
    {
      "cell_type": "code",
      "source": [
        "grocery_list[0]"
      ],
      "metadata": {
        "id": "c-xfjnHp6TnY",
        "outputId": "2afa00b4-7980-4eea-badb-bdb76333b0f6",
        "colab": {
          "base_uri": "https://localhost:8080/",
          "height": 35
        }
      },
      "id": "c-xfjnHp6TnY",
      "execution_count": 11,
      "outputs": [
        {
          "output_type": "execute_result",
          "data": {
            "text/plain": [
              "'banana'"
            ],
            "application/vnd.google.colaboratory.intrinsic+json": {
              "type": "string"
            }
          },
          "metadata": {},
          "execution_count": 11
        }
      ]
    },
    {
      "cell_type": "code",
      "source": [
        "grocery_list[1] # indexing, number is index, 1 is like 1 away from the first"
      ],
      "metadata": {
        "id": "RP3CQ8SX6jK7",
        "outputId": "4ad9bae6-4b75-45ca-a479-9a5451015bbe",
        "colab": {
          "base_uri": "https://localhost:8080/",
          "height": 35
        }
      },
      "id": "RP3CQ8SX6jK7",
      "execution_count": 12,
      "outputs": [
        {
          "output_type": "execute_result",
          "data": {
            "text/plain": [
              "'orange'"
            ],
            "application/vnd.google.colaboratory.intrinsic+json": {
              "type": "string"
            }
          },
          "metadata": {},
          "execution_count": 12
        }
      ]
    },
    {
      "cell_type": "code",
      "source": [
        "grocery_list[-1] # last one"
      ],
      "metadata": {
        "id": "wsUTyUwr6lum",
        "outputId": "a54e4c8e-6e03-419d-fa23-91b146314351",
        "colab": {
          "base_uri": "https://localhost:8080/",
          "height": 35
        }
      },
      "id": "wsUTyUwr6lum",
      "execution_count": 13,
      "outputs": [
        {
          "output_type": "execute_result",
          "data": {
            "text/plain": [
              "'fruit'"
            ],
            "application/vnd.google.colaboratory.intrinsic+json": {
              "type": "string"
            }
          },
          "metadata": {},
          "execution_count": 13
        }
      ]
    },
    {
      "cell_type": "code",
      "source": [],
      "metadata": {
        "id": "RY0RMgXS67ds"
      },
      "id": "RY0RMgXS67ds",
      "execution_count": null,
      "outputs": []
    }
  ],
  "metadata": {
    "kernelspec": {
      "display_name": "base",
      "language": "python",
      "name": "python3"
    },
    "language_info": {
      "codemirror_mode": {
        "name": "ipython",
        "version": 3
      },
      "file_extension": ".py",
      "mimetype": "text/x-python",
      "name": "python",
      "nbconvert_exporter": "python",
      "pygments_lexer": "ipython3",
      "version": "3.11.5"
    },
    "colab": {
      "provenance": []
    }
  },
  "nbformat": 4,
  "nbformat_minor": 5
}